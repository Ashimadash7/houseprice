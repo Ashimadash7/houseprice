{
  "metadata": {
    "kernelspec": {
      "language": "python",
      "display_name": "Python 3",
      "name": "python3"
    },
    "language_info": {
      "name": "python",
      "version": "3.10.12",
      "mimetype": "text/x-python",
      "codemirror_mode": {
        "name": "ipython",
        "version": 3
      },
      "pygments_lexer": "ipython3",
      "nbconvert_exporter": "python",
      "file_extension": ".py"
    },
    "kaggle": {
      "accelerator": "none",
      "dataSources": [
        {
          "sourceId": 85203,
          "sourceType": "datasetVersion",
          "datasetId": 46927
        }
      ],
      "dockerImageVersionId": 30587,
      "isInternetEnabled": true,
      "language": "python",
      "sourceType": "notebook",
      "isGpuEnabled": false
    },
    "colab": {
      "name": "notebookc68f149c9c",
      "provenance": []
    }
  },
  "nbformat_minor": 0,
  "nbformat": 4,
  "cells": [
    {
      "source": [
        "\n",
        "# IMPORTANT: RUN THIS CELL IN ORDER TO IMPORT YOUR KAGGLE DATA SOURCES\n",
        "# TO THE CORRECT LOCATION (/kaggle/input) IN YOUR NOTEBOOK,\n",
        "# THEN FEEL FREE TO DELETE THIS CELL.\n",
        "# NOTE: THIS NOTEBOOK ENVIRONMENT DIFFERS FROM KAGGLE'S PYTHON\n",
        "# ENVIRONMENT SO THERE MAY BE MISSING LIBRARIES USED BY YOUR\n",
        "# NOTEBOOK.\n",
        "\n",
        "import os\n",
        "import sys\n",
        "from tempfile import NamedTemporaryFile\n",
        "from urllib.request import urlopen\n",
        "from urllib.parse import unquote, urlparse\n",
        "from urllib.error import HTTPError\n",
        "from zipfile import ZipFile\n",
        "import tarfile\n",
        "import shutil\n",
        "\n",
        "CHUNK_SIZE = 40960\n",
        "DATA_SOURCE_MAPPING = 'housedata:https%3A%2F%2Fstorage.googleapis.com%2Fkaggle-data-sets%2F46927%2F85203%2Fbundle%2Farchive.zip%3FX-Goog-Algorithm%3DGOOG4-RSA-SHA256%26X-Goog-Credential%3Dgcp-kaggle-com%2540kaggle-161607.iam.gserviceaccount.com%252F20240317%252Fauto%252Fstorage%252Fgoog4_request%26X-Goog-Date%3D20240317T052339Z%26X-Goog-Expires%3D259200%26X-Goog-SignedHeaders%3Dhost%26X-Goog-Signature%3Da5e900f37c90217fb66f5d59c82b14930ca1e0ba7ba3bef49ee8fefc854b435d5c4438e1c356c148a3877492872582632d14d417109e33138ef8d2bf539085bbffa56578a2ad6e563ef0a519ff83cef36f26002ee4742a74f91ef83dc31fb1068d688e0cae6b0f853fb8a005bdcae2836436a02d4c8a6f9974d4a8c79ec174e9d04bb08aaabb9f336fa4270b584ac0bf8461b405afc24dcb888af2ae2125ae7f91b70fa4bcc36f8620f09cb363cf94f62095f90cae334527801f6bd41ad4e8fe719dac4d8118a291109cc7df0ac7bb9770e64735d9a2e78469bf46d7930e450171df5714987e046686db18e869d1942c6c792ca50892b409cc40aca3a6e0b5f4'\n",
        "\n",
        "KAGGLE_INPUT_PATH='/kaggle/input'\n",
        "KAGGLE_WORKING_PATH='/kaggle/working'\n",
        "KAGGLE_SYMLINK='kaggle'\n",
        "\n",
        "!umount /kaggle/input/ 2> /dev/null\n",
        "shutil.rmtree('/kaggle/input', ignore_errors=True)\n",
        "os.makedirs(KAGGLE_INPUT_PATH, 0o777, exist_ok=True)\n",
        "os.makedirs(KAGGLE_WORKING_PATH, 0o777, exist_ok=True)\n",
        "\n",
        "try:\n",
        "  os.symlink(KAGGLE_INPUT_PATH, os.path.join(\"..\", 'input'), target_is_directory=True)\n",
        "except FileExistsError:\n",
        "  pass\n",
        "try:\n",
        "  os.symlink(KAGGLE_WORKING_PATH, os.path.join(\"..\", 'working'), target_is_directory=True)\n",
        "except FileExistsError:\n",
        "  pass\n",
        "\n",
        "for data_source_mapping in DATA_SOURCE_MAPPING.split(','):\n",
        "    directory, download_url_encoded = data_source_mapping.split(':')\n",
        "    download_url = unquote(download_url_encoded)\n",
        "    filename = urlparse(download_url).path\n",
        "    destination_path = os.path.join(KAGGLE_INPUT_PATH, directory)\n",
        "    try:\n",
        "        with urlopen(download_url) as fileres, NamedTemporaryFile() as tfile:\n",
        "            total_length = fileres.headers['content-length']\n",
        "            print(f'Downloading {directory}, {total_length} bytes compressed')\n",
        "            dl = 0\n",
        "            data = fileres.read(CHUNK_SIZE)\n",
        "            while len(data) > 0:\n",
        "                dl += len(data)\n",
        "                tfile.write(data)\n",
        "                done = int(50 * dl / int(total_length))\n",
        "                sys.stdout.write(f\"\\r[{'=' * done}{' ' * (50-done)}] {dl} bytes downloaded\")\n",
        "                sys.stdout.flush()\n",
        "                data = fileres.read(CHUNK_SIZE)\n",
        "            if filename.endswith('.zip'):\n",
        "              with ZipFile(tfile) as zfile:\n",
        "                zfile.extractall(destination_path)\n",
        "            else:\n",
        "              with tarfile.open(tfile.name) as tarfile:\n",
        "                tarfile.extractall(destination_path)\n",
        "            print(f'\\nDownloaded and uncompressed: {directory}')\n",
        "    except HTTPError as e:\n",
        "        print(f'Failed to load (likely expired) {download_url} to path {destination_path}')\n",
        "        continue\n",
        "    except OSError as e:\n",
        "        print(f'Failed to load {download_url} to path {destination_path}')\n",
        "        continue\n",
        "\n",
        "print('Data source import complete.')\n"
      ],
      "metadata": {
        "id": "fOY6xYCP3ae6"
      },
      "cell_type": "code",
      "outputs": [],
      "execution_count": null
    },
    {
      "cell_type": "code",
      "source": [
        "# This Python 3 environment comes with many helpful analytics libraries installed\n",
        "# It is defined by the kaggle/python Docker image: https://github.com/kaggle/docker-python\n",
        "# For example, here's several helpful packages to load\n",
        "\n",
        "import numpy as np # linear algebra\n",
        "import pandas as pd # data processing, CSV file I/O (e.g. pd.read_csv)\n",
        "\n",
        "# Input data files are available in the read-only \"../input/\" directory\n",
        "# For example, running this (by clicking run or pressing Shift+Enter) will list all files under the input directory\n",
        "\n",
        "import os\n",
        "for dirname, _, filenames in os.walk('/kaggle/input'):\n",
        "    for filename in filenames:\n",
        "        print(os.path.join(dirname, filename))\n",
        "\n",
        "# You can write up to 20GB to the current directory (/kaggle/working/) that gets preserved as output when you create a version using \"Save & Run All\"\n",
        "# You can also write temporary files to /kaggle/temp/, but they won't be saved outside of the current session"
      ],
      "metadata": {
        "_uuid": "8f2839f25d086af736a60e9eeb907d3b93b6e0e5",
        "_cell_guid": "b1076dfc-b9ad-4769-8c92-a6c4dae69d19",
        "execution": {
          "iopub.status.busy": "2023-12-02T21:18:09.873303Z",
          "iopub.execute_input": "2023-12-02T21:18:09.873708Z",
          "iopub.status.idle": "2023-12-02T21:18:09.89835Z",
          "shell.execute_reply.started": "2023-12-02T21:18:09.873679Z",
          "shell.execute_reply": "2023-12-02T21:18:09.896Z"
        },
        "trusted": true,
        "id": "ILyV80Vu3ae8"
      },
      "execution_count": 5,
      "outputs": []
    },
    {
      "cell_type": "code",
      "source": [
        "df = pd.read_csv('/content/data.csv')\n",
        "df.head()"
      ],
      "metadata": {
        "execution": {
          "iopub.status.busy": "2023-12-02T21:18:10.171508Z",
          "iopub.execute_input": "2023-12-02T21:18:10.172828Z",
          "iopub.status.idle": "2023-12-02T21:18:10.205196Z",
          "shell.execute_reply.started": "2023-12-02T21:18:10.172792Z",
          "shell.execute_reply": "2023-12-02T21:18:10.20365Z"
        },
        "trusted": true,
        "colab": {
          "base_uri": "https://localhost:8080/",
          "height": 417
        },
        "id": "QtPYTFXy3ae-",
        "outputId": "80c38259-9ef4-43fd-ddc6-fd951ef2d703"
      },
      "execution_count": 6,
      "outputs": [
        {
          "output_type": "execute_result",
          "data": {
            "text/plain": [
              "                  date      price  bedrooms  bathrooms  sqft_living  sqft_lot  \\\n",
              "0  2014-05-02 00:00:00   313000.0       3.0       1.50         1340      7912   \n",
              "1  2014-05-02 00:00:00  2384000.0       5.0       2.50         3650      9050   \n",
              "2  2014-05-02 00:00:00   342000.0       3.0       2.00         1930     11947   \n",
              "3  2014-05-02 00:00:00   420000.0       3.0       2.25         2000      8030   \n",
              "4  2014-05-02 00:00:00   550000.0       4.0       2.50         1940     10500   \n",
              "\n",
              "   floors  waterfront  view  condition  sqft_above  sqft_basement  yr_built  \\\n",
              "0     1.5           0     0          3        1340              0      1955   \n",
              "1     2.0           0     4          5        3370            280      1921   \n",
              "2     1.0           0     0          4        1930              0      1966   \n",
              "3     1.0           0     0          4        1000           1000      1963   \n",
              "4     1.0           0     0          4        1140            800      1976   \n",
              "\n",
              "   yr_renovated                    street       city  statezip country  \n",
              "0          2005      18810 Densmore Ave N  Shoreline  WA 98133     USA  \n",
              "1             0           709 W Blaine St    Seattle  WA 98119     USA  \n",
              "2             0  26206-26214 143rd Ave SE       Kent  WA 98042     USA  \n",
              "3             0           857 170th Pl NE   Bellevue  WA 98008     USA  \n",
              "4          1992         9105 170th Ave NE    Redmond  WA 98052     USA  "
            ],
            "text/html": [
              "\n",
              "  <div id=\"df-08053324-6f2e-4bc1-93ea-dc372f7ba2bf\" class=\"colab-df-container\">\n",
              "    <div>\n",
              "<style scoped>\n",
              "    .dataframe tbody tr th:only-of-type {\n",
              "        vertical-align: middle;\n",
              "    }\n",
              "\n",
              "    .dataframe tbody tr th {\n",
              "        vertical-align: top;\n",
              "    }\n",
              "\n",
              "    .dataframe thead th {\n",
              "        text-align: right;\n",
              "    }\n",
              "</style>\n",
              "<table border=\"1\" class=\"dataframe\">\n",
              "  <thead>\n",
              "    <tr style=\"text-align: right;\">\n",
              "      <th></th>\n",
              "      <th>date</th>\n",
              "      <th>price</th>\n",
              "      <th>bedrooms</th>\n",
              "      <th>bathrooms</th>\n",
              "      <th>sqft_living</th>\n",
              "      <th>sqft_lot</th>\n",
              "      <th>floors</th>\n",
              "      <th>waterfront</th>\n",
              "      <th>view</th>\n",
              "      <th>condition</th>\n",
              "      <th>sqft_above</th>\n",
              "      <th>sqft_basement</th>\n",
              "      <th>yr_built</th>\n",
              "      <th>yr_renovated</th>\n",
              "      <th>street</th>\n",
              "      <th>city</th>\n",
              "      <th>statezip</th>\n",
              "      <th>country</th>\n",
              "    </tr>\n",
              "  </thead>\n",
              "  <tbody>\n",
              "    <tr>\n",
              "      <th>0</th>\n",
              "      <td>2014-05-02 00:00:00</td>\n",
              "      <td>313000.0</td>\n",
              "      <td>3.0</td>\n",
              "      <td>1.50</td>\n",
              "      <td>1340</td>\n",
              "      <td>7912</td>\n",
              "      <td>1.5</td>\n",
              "      <td>0</td>\n",
              "      <td>0</td>\n",
              "      <td>3</td>\n",
              "      <td>1340</td>\n",
              "      <td>0</td>\n",
              "      <td>1955</td>\n",
              "      <td>2005</td>\n",
              "      <td>18810 Densmore Ave N</td>\n",
              "      <td>Shoreline</td>\n",
              "      <td>WA 98133</td>\n",
              "      <td>USA</td>\n",
              "    </tr>\n",
              "    <tr>\n",
              "      <th>1</th>\n",
              "      <td>2014-05-02 00:00:00</td>\n",
              "      <td>2384000.0</td>\n",
              "      <td>5.0</td>\n",
              "      <td>2.50</td>\n",
              "      <td>3650</td>\n",
              "      <td>9050</td>\n",
              "      <td>2.0</td>\n",
              "      <td>0</td>\n",
              "      <td>4</td>\n",
              "      <td>5</td>\n",
              "      <td>3370</td>\n",
              "      <td>280</td>\n",
              "      <td>1921</td>\n",
              "      <td>0</td>\n",
              "      <td>709 W Blaine St</td>\n",
              "      <td>Seattle</td>\n",
              "      <td>WA 98119</td>\n",
              "      <td>USA</td>\n",
              "    </tr>\n",
              "    <tr>\n",
              "      <th>2</th>\n",
              "      <td>2014-05-02 00:00:00</td>\n",
              "      <td>342000.0</td>\n",
              "      <td>3.0</td>\n",
              "      <td>2.00</td>\n",
              "      <td>1930</td>\n",
              "      <td>11947</td>\n",
              "      <td>1.0</td>\n",
              "      <td>0</td>\n",
              "      <td>0</td>\n",
              "      <td>4</td>\n",
              "      <td>1930</td>\n",
              "      <td>0</td>\n",
              "      <td>1966</td>\n",
              "      <td>0</td>\n",
              "      <td>26206-26214 143rd Ave SE</td>\n",
              "      <td>Kent</td>\n",
              "      <td>WA 98042</td>\n",
              "      <td>USA</td>\n",
              "    </tr>\n",
              "    <tr>\n",
              "      <th>3</th>\n",
              "      <td>2014-05-02 00:00:00</td>\n",
              "      <td>420000.0</td>\n",
              "      <td>3.0</td>\n",
              "      <td>2.25</td>\n",
              "      <td>2000</td>\n",
              "      <td>8030</td>\n",
              "      <td>1.0</td>\n",
              "      <td>0</td>\n",
              "      <td>0</td>\n",
              "      <td>4</td>\n",
              "      <td>1000</td>\n",
              "      <td>1000</td>\n",
              "      <td>1963</td>\n",
              "      <td>0</td>\n",
              "      <td>857 170th Pl NE</td>\n",
              "      <td>Bellevue</td>\n",
              "      <td>WA 98008</td>\n",
              "      <td>USA</td>\n",
              "    </tr>\n",
              "    <tr>\n",
              "      <th>4</th>\n",
              "      <td>2014-05-02 00:00:00</td>\n",
              "      <td>550000.0</td>\n",
              "      <td>4.0</td>\n",
              "      <td>2.50</td>\n",
              "      <td>1940</td>\n",
              "      <td>10500</td>\n",
              "      <td>1.0</td>\n",
              "      <td>0</td>\n",
              "      <td>0</td>\n",
              "      <td>4</td>\n",
              "      <td>1140</td>\n",
              "      <td>800</td>\n",
              "      <td>1976</td>\n",
              "      <td>1992</td>\n",
              "      <td>9105 170th Ave NE</td>\n",
              "      <td>Redmond</td>\n",
              "      <td>WA 98052</td>\n",
              "      <td>USA</td>\n",
              "    </tr>\n",
              "  </tbody>\n",
              "</table>\n",
              "</div>\n",
              "    <div class=\"colab-df-buttons\">\n",
              "\n",
              "  <div class=\"colab-df-container\">\n",
              "    <button class=\"colab-df-convert\" onclick=\"convertToInteractive('df-08053324-6f2e-4bc1-93ea-dc372f7ba2bf')\"\n",
              "            title=\"Convert this dataframe to an interactive table.\"\n",
              "            style=\"display:none;\">\n",
              "\n",
              "  <svg xmlns=\"http://www.w3.org/2000/svg\" height=\"24px\" viewBox=\"0 -960 960 960\">\n",
              "    <path d=\"M120-120v-720h720v720H120Zm60-500h600v-160H180v160Zm220 220h160v-160H400v160Zm0 220h160v-160H400v160ZM180-400h160v-160H180v160Zm440 0h160v-160H620v160ZM180-180h160v-160H180v160Zm440 0h160v-160H620v160Z\"/>\n",
              "  </svg>\n",
              "    </button>\n",
              "\n",
              "  <style>\n",
              "    .colab-df-container {\n",
              "      display:flex;\n",
              "      gap: 12px;\n",
              "    }\n",
              "\n",
              "    .colab-df-convert {\n",
              "      background-color: #E8F0FE;\n",
              "      border: none;\n",
              "      border-radius: 50%;\n",
              "      cursor: pointer;\n",
              "      display: none;\n",
              "      fill: #1967D2;\n",
              "      height: 32px;\n",
              "      padding: 0 0 0 0;\n",
              "      width: 32px;\n",
              "    }\n",
              "\n",
              "    .colab-df-convert:hover {\n",
              "      background-color: #E2EBFA;\n",
              "      box-shadow: 0px 1px 2px rgba(60, 64, 67, 0.3), 0px 1px 3px 1px rgba(60, 64, 67, 0.15);\n",
              "      fill: #174EA6;\n",
              "    }\n",
              "\n",
              "    .colab-df-buttons div {\n",
              "      margin-bottom: 4px;\n",
              "    }\n",
              "\n",
              "    [theme=dark] .colab-df-convert {\n",
              "      background-color: #3B4455;\n",
              "      fill: #D2E3FC;\n",
              "    }\n",
              "\n",
              "    [theme=dark] .colab-df-convert:hover {\n",
              "      background-color: #434B5C;\n",
              "      box-shadow: 0px 1px 3px 1px rgba(0, 0, 0, 0.15);\n",
              "      filter: drop-shadow(0px 1px 2px rgba(0, 0, 0, 0.3));\n",
              "      fill: #FFFFFF;\n",
              "    }\n",
              "  </style>\n",
              "\n",
              "    <script>\n",
              "      const buttonEl =\n",
              "        document.querySelector('#df-08053324-6f2e-4bc1-93ea-dc372f7ba2bf button.colab-df-convert');\n",
              "      buttonEl.style.display =\n",
              "        google.colab.kernel.accessAllowed ? 'block' : 'none';\n",
              "\n",
              "      async function convertToInteractive(key) {\n",
              "        const element = document.querySelector('#df-08053324-6f2e-4bc1-93ea-dc372f7ba2bf');\n",
              "        const dataTable =\n",
              "          await google.colab.kernel.invokeFunction('convertToInteractive',\n",
              "                                                    [key], {});\n",
              "        if (!dataTable) return;\n",
              "\n",
              "        const docLinkHtml = 'Like what you see? Visit the ' +\n",
              "          '<a target=\"_blank\" href=https://colab.research.google.com/notebooks/data_table.ipynb>data table notebook</a>'\n",
              "          + ' to learn more about interactive tables.';\n",
              "        element.innerHTML = '';\n",
              "        dataTable['output_type'] = 'display_data';\n",
              "        await google.colab.output.renderOutput(dataTable, element);\n",
              "        const docLink = document.createElement('div');\n",
              "        docLink.innerHTML = docLinkHtml;\n",
              "        element.appendChild(docLink);\n",
              "      }\n",
              "    </script>\n",
              "  </div>\n",
              "\n",
              "\n",
              "<div id=\"df-f27735f8-5d02-4ec5-8aa6-90f11807a615\">\n",
              "  <button class=\"colab-df-quickchart\" onclick=\"quickchart('df-f27735f8-5d02-4ec5-8aa6-90f11807a615')\"\n",
              "            title=\"Suggest charts\"\n",
              "            style=\"display:none;\">\n",
              "\n",
              "<svg xmlns=\"http://www.w3.org/2000/svg\" height=\"24px\"viewBox=\"0 0 24 24\"\n",
              "     width=\"24px\">\n",
              "    <g>\n",
              "        <path d=\"M19 3H5c-1.1 0-2 .9-2 2v14c0 1.1.9 2 2 2h14c1.1 0 2-.9 2-2V5c0-1.1-.9-2-2-2zM9 17H7v-7h2v7zm4 0h-2V7h2v10zm4 0h-2v-4h2v4z\"/>\n",
              "    </g>\n",
              "</svg>\n",
              "  </button>\n",
              "\n",
              "<style>\n",
              "  .colab-df-quickchart {\n",
              "      --bg-color: #E8F0FE;\n",
              "      --fill-color: #1967D2;\n",
              "      --hover-bg-color: #E2EBFA;\n",
              "      --hover-fill-color: #174EA6;\n",
              "      --disabled-fill-color: #AAA;\n",
              "      --disabled-bg-color: #DDD;\n",
              "  }\n",
              "\n",
              "  [theme=dark] .colab-df-quickchart {\n",
              "      --bg-color: #3B4455;\n",
              "      --fill-color: #D2E3FC;\n",
              "      --hover-bg-color: #434B5C;\n",
              "      --hover-fill-color: #FFFFFF;\n",
              "      --disabled-bg-color: #3B4455;\n",
              "      --disabled-fill-color: #666;\n",
              "  }\n",
              "\n",
              "  .colab-df-quickchart {\n",
              "    background-color: var(--bg-color);\n",
              "    border: none;\n",
              "    border-radius: 50%;\n",
              "    cursor: pointer;\n",
              "    display: none;\n",
              "    fill: var(--fill-color);\n",
              "    height: 32px;\n",
              "    padding: 0;\n",
              "    width: 32px;\n",
              "  }\n",
              "\n",
              "  .colab-df-quickchart:hover {\n",
              "    background-color: var(--hover-bg-color);\n",
              "    box-shadow: 0 1px 2px rgba(60, 64, 67, 0.3), 0 1px 3px 1px rgba(60, 64, 67, 0.15);\n",
              "    fill: var(--button-hover-fill-color);\n",
              "  }\n",
              "\n",
              "  .colab-df-quickchart-complete:disabled,\n",
              "  .colab-df-quickchart-complete:disabled:hover {\n",
              "    background-color: var(--disabled-bg-color);\n",
              "    fill: var(--disabled-fill-color);\n",
              "    box-shadow: none;\n",
              "  }\n",
              "\n",
              "  .colab-df-spinner {\n",
              "    border: 2px solid var(--fill-color);\n",
              "    border-color: transparent;\n",
              "    border-bottom-color: var(--fill-color);\n",
              "    animation:\n",
              "      spin 1s steps(1) infinite;\n",
              "  }\n",
              "\n",
              "  @keyframes spin {\n",
              "    0% {\n",
              "      border-color: transparent;\n",
              "      border-bottom-color: var(--fill-color);\n",
              "      border-left-color: var(--fill-color);\n",
              "    }\n",
              "    20% {\n",
              "      border-color: transparent;\n",
              "      border-left-color: var(--fill-color);\n",
              "      border-top-color: var(--fill-color);\n",
              "    }\n",
              "    30% {\n",
              "      border-color: transparent;\n",
              "      border-left-color: var(--fill-color);\n",
              "      border-top-color: var(--fill-color);\n",
              "      border-right-color: var(--fill-color);\n",
              "    }\n",
              "    40% {\n",
              "      border-color: transparent;\n",
              "      border-right-color: var(--fill-color);\n",
              "      border-top-color: var(--fill-color);\n",
              "    }\n",
              "    60% {\n",
              "      border-color: transparent;\n",
              "      border-right-color: var(--fill-color);\n",
              "    }\n",
              "    80% {\n",
              "      border-color: transparent;\n",
              "      border-right-color: var(--fill-color);\n",
              "      border-bottom-color: var(--fill-color);\n",
              "    }\n",
              "    90% {\n",
              "      border-color: transparent;\n",
              "      border-bottom-color: var(--fill-color);\n",
              "    }\n",
              "  }\n",
              "</style>\n",
              "\n",
              "  <script>\n",
              "    async function quickchart(key) {\n",
              "      const quickchartButtonEl =\n",
              "        document.querySelector('#' + key + ' button');\n",
              "      quickchartButtonEl.disabled = true;  // To prevent multiple clicks.\n",
              "      quickchartButtonEl.classList.add('colab-df-spinner');\n",
              "      try {\n",
              "        const charts = await google.colab.kernel.invokeFunction(\n",
              "            'suggestCharts', [key], {});\n",
              "      } catch (error) {\n",
              "        console.error('Error during call to suggestCharts:', error);\n",
              "      }\n",
              "      quickchartButtonEl.classList.remove('colab-df-spinner');\n",
              "      quickchartButtonEl.classList.add('colab-df-quickchart-complete');\n",
              "    }\n",
              "    (() => {\n",
              "      let quickchartButtonEl =\n",
              "        document.querySelector('#df-f27735f8-5d02-4ec5-8aa6-90f11807a615 button');\n",
              "      quickchartButtonEl.style.display =\n",
              "        google.colab.kernel.accessAllowed ? 'block' : 'none';\n",
              "    })();\n",
              "  </script>\n",
              "</div>\n",
              "\n",
              "    </div>\n",
              "  </div>\n"
            ],
            "application/vnd.google.colaboratory.intrinsic+json": {
              "type": "dataframe",
              "variable_name": "df",
              "summary": "{\n  \"name\": \"df\",\n  \"rows\": 4600,\n  \"fields\": [\n    {\n      \"column\": \"date\",\n      \"properties\": {\n        \"dtype\": \"object\",\n        \"num_unique_values\": 70,\n        \"samples\": [\n          \"2014-05-24 00:00:00\",\n          \"2014-05-02 00:00:00\",\n          \"2014-06-20 00:00:00\"\n        ],\n        \"semantic_type\": \"\",\n        \"description\": \"\"\n      }\n    },\n    {\n      \"column\": \"price\",\n      \"properties\": {\n        \"dtype\": \"number\",\n        \"std\": 563834.7025471414,\n        \"min\": 0.0,\n        \"max\": 26590000.0,\n        \"num_unique_values\": 1741,\n        \"samples\": [\n          689900.0,\n          170500.0,\n          466800.0\n        ],\n        \"semantic_type\": \"\",\n        \"description\": \"\"\n      }\n    },\n    {\n      \"column\": \"bedrooms\",\n      \"properties\": {\n        \"dtype\": \"number\",\n        \"std\": 0.9088481155258186,\n        \"min\": 0.0,\n        \"max\": 9.0,\n        \"num_unique_values\": 10,\n        \"samples\": [\n          8.0,\n          5.0,\n          7.0\n        ],\n        \"semantic_type\": \"\",\n        \"description\": \"\"\n      }\n    },\n    {\n      \"column\": \"bathrooms\",\n      \"properties\": {\n        \"dtype\": \"number\",\n        \"std\": 0.7837810746502805,\n        \"min\": 0.0,\n        \"max\": 8.0,\n        \"num_unique_values\": 26,\n        \"samples\": [\n          3.25,\n          5.75,\n          1.5\n        ],\n        \"semantic_type\": \"\",\n        \"description\": \"\"\n      }\n    },\n    {\n      \"column\": \"sqft_living\",\n      \"properties\": {\n        \"dtype\": \"number\",\n        \"std\": 963,\n        \"min\": 370,\n        \"max\": 13540,\n        \"num_unique_values\": 566,\n        \"samples\": [\n          1785,\n          2701,\n          2840\n        ],\n        \"semantic_type\": \"\",\n        \"description\": \"\"\n      }\n    },\n    {\n      \"column\": \"sqft_lot\",\n      \"properties\": {\n        \"dtype\": \"number\",\n        \"std\": 35884,\n        \"min\": 638,\n        \"max\": 1074218,\n        \"num_unique_values\": 3113,\n        \"samples\": [\n          5540,\n          9292,\n          17334\n        ],\n        \"semantic_type\": \"\",\n        \"description\": \"\"\n      }\n    },\n    {\n      \"column\": \"floors\",\n      \"properties\": {\n        \"dtype\": \"number\",\n        \"std\": 0.5382883772969885,\n        \"min\": 1.0,\n        \"max\": 3.5,\n        \"num_unique_values\": 6,\n        \"samples\": [\n          1.5,\n          2.0,\n          3.5\n        ],\n        \"semantic_type\": \"\",\n        \"description\": \"\"\n      }\n    },\n    {\n      \"column\": \"waterfront\",\n      \"properties\": {\n        \"dtype\": \"number\",\n        \"std\": 0,\n        \"min\": 0,\n        \"max\": 1,\n        \"num_unique_values\": 2,\n        \"samples\": [\n          1,\n          0\n        ],\n        \"semantic_type\": \"\",\n        \"description\": \"\"\n      }\n    },\n    {\n      \"column\": \"view\",\n      \"properties\": {\n        \"dtype\": \"number\",\n        \"std\": 0,\n        \"min\": 0,\n        \"max\": 4,\n        \"num_unique_values\": 5,\n        \"samples\": [\n          4,\n          3\n        ],\n        \"semantic_type\": \"\",\n        \"description\": \"\"\n      }\n    },\n    {\n      \"column\": \"condition\",\n      \"properties\": {\n        \"dtype\": \"number\",\n        \"std\": 0,\n        \"min\": 1,\n        \"max\": 5,\n        \"num_unique_values\": 5,\n        \"samples\": [\n          5,\n          1\n        ],\n        \"semantic_type\": \"\",\n        \"description\": \"\"\n      }\n    },\n    {\n      \"column\": \"sqft_above\",\n      \"properties\": {\n        \"dtype\": \"number\",\n        \"std\": 862,\n        \"min\": 370,\n        \"max\": 9410,\n        \"num_unique_values\": 511,\n        \"samples\": [\n          2280,\n          2230\n        ],\n        \"semantic_type\": \"\",\n        \"description\": \"\"\n      }\n    },\n    {\n      \"column\": \"sqft_basement\",\n      \"properties\": {\n        \"dtype\": \"number\",\n        \"std\": 464,\n        \"min\": 0,\n        \"max\": 4820,\n        \"num_unique_values\": 207,\n        \"samples\": [\n          460,\n          310\n        ],\n        \"semantic_type\": \"\",\n        \"description\": \"\"\n      }\n    },\n    {\n      \"column\": \"yr_built\",\n      \"properties\": {\n        \"dtype\": \"number\",\n        \"std\": 29,\n        \"min\": 1900,\n        \"max\": 2014,\n        \"num_unique_values\": 115,\n        \"samples\": [\n          1926,\n          1976\n        ],\n        \"semantic_type\": \"\",\n        \"description\": \"\"\n      }\n    },\n    {\n      \"column\": \"yr_renovated\",\n      \"properties\": {\n        \"dtype\": \"number\",\n        \"std\": 979,\n        \"min\": 0,\n        \"max\": 2014,\n        \"num_unique_values\": 60,\n        \"samples\": [\n          2005,\n          1988\n        ],\n        \"semantic_type\": \"\",\n        \"description\": \"\"\n      }\n    },\n    {\n      \"column\": \"street\",\n      \"properties\": {\n        \"dtype\": \"string\",\n        \"num_unique_values\": 4525,\n        \"samples\": [\n          \"743 N 80th St\",\n          \"157 Pike St NE\"\n        ],\n        \"semantic_type\": \"\",\n        \"description\": \"\"\n      }\n    },\n    {\n      \"column\": \"city\",\n      \"properties\": {\n        \"dtype\": \"category\",\n        \"num_unique_values\": 44,\n        \"samples\": [\n          \"Medina\",\n          \"Inglewood-Finn Hill\"\n        ],\n        \"semantic_type\": \"\",\n        \"description\": \"\"\n      }\n    },\n    {\n      \"column\": \"statezip\",\n      \"properties\": {\n        \"dtype\": \"category\",\n        \"num_unique_values\": 77,\n        \"samples\": [\n          \"WA 98052\",\n          \"WA 98075\"\n        ],\n        \"semantic_type\": \"\",\n        \"description\": \"\"\n      }\n    },\n    {\n      \"column\": \"country\",\n      \"properties\": {\n        \"dtype\": \"category\",\n        \"num_unique_values\": 1,\n        \"samples\": [\n          \"USA\"\n        ],\n        \"semantic_type\": \"\",\n        \"description\": \"\"\n      }\n    }\n  ]\n}"
            }
          },
          "metadata": {},
          "execution_count": 6
        }
      ]
    },
    {
      "cell_type": "code",
      "source": [
        "df.info()"
      ],
      "metadata": {
        "execution": {
          "iopub.status.busy": "2023-12-02T21:18:10.351698Z",
          "iopub.execute_input": "2023-12-02T21:18:10.352079Z",
          "iopub.status.idle": "2023-12-02T21:18:10.367184Z",
          "shell.execute_reply.started": "2023-12-02T21:18:10.352048Z",
          "shell.execute_reply": "2023-12-02T21:18:10.365462Z"
        },
        "trusted": true,
        "colab": {
          "base_uri": "https://localhost:8080/"
        },
        "id": "6p_PXTIC3ae_",
        "outputId": "23313aed-d205-48fd-a20f-05798a063565"
      },
      "execution_count": 7,
      "outputs": [
        {
          "output_type": "stream",
          "name": "stdout",
          "text": [
            "<class 'pandas.core.frame.DataFrame'>\n",
            "RangeIndex: 4600 entries, 0 to 4599\n",
            "Data columns (total 18 columns):\n",
            " #   Column         Non-Null Count  Dtype  \n",
            "---  ------         --------------  -----  \n",
            " 0   date           4600 non-null   object \n",
            " 1   price          4600 non-null   float64\n",
            " 2   bedrooms       4600 non-null   float64\n",
            " 3   bathrooms      4600 non-null   float64\n",
            " 4   sqft_living    4600 non-null   int64  \n",
            " 5   sqft_lot       4600 non-null   int64  \n",
            " 6   floors         4600 non-null   float64\n",
            " 7   waterfront     4600 non-null   int64  \n",
            " 8   view           4600 non-null   int64  \n",
            " 9   condition      4600 non-null   int64  \n",
            " 10  sqft_above     4600 non-null   int64  \n",
            " 11  sqft_basement  4600 non-null   int64  \n",
            " 12  yr_built       4600 non-null   int64  \n",
            " 13  yr_renovated   4600 non-null   int64  \n",
            " 14  street         4600 non-null   object \n",
            " 15  city           4600 non-null   object \n",
            " 16  statezip       4600 non-null   object \n",
            " 17  country        4600 non-null   object \n",
            "dtypes: float64(4), int64(9), object(5)\n",
            "memory usage: 647.0+ KB\n"
          ]
        }
      ]
    },
    {
      "cell_type": "code",
      "source": [
        "df.describe()"
      ],
      "metadata": {
        "execution": {
          "iopub.status.busy": "2023-12-02T21:18:10.447501Z",
          "iopub.execute_input": "2023-12-02T21:18:10.447875Z",
          "iopub.status.idle": "2023-12-02T21:18:10.491766Z",
          "shell.execute_reply.started": "2023-12-02T21:18:10.447847Z",
          "shell.execute_reply": "2023-12-02T21:18:10.490793Z"
        },
        "trusted": true,
        "id": "OSHQZHu23ae_"
      },
      "execution_count": null,
      "outputs": []
    },
    {
      "cell_type": "code",
      "source": [
        "df.head()"
      ],
      "metadata": {
        "execution": {
          "iopub.status.busy": "2023-12-02T21:18:10.556741Z",
          "iopub.execute_input": "2023-12-02T21:18:10.557626Z",
          "iopub.status.idle": "2023-12-02T21:18:10.575952Z",
          "shell.execute_reply.started": "2023-12-02T21:18:10.55758Z",
          "shell.execute_reply": "2023-12-02T21:18:10.574766Z"
        },
        "trusted": true,
        "id": "Fvl1Hc_Z3ae_"
      },
      "execution_count": null,
      "outputs": []
    },
    {
      "cell_type": "code",
      "source": [
        "for each in df.columns:\n",
        "    print(df[each].dtype)\n"
      ],
      "metadata": {
        "execution": {
          "iopub.status.busy": "2023-12-02T21:18:10.639724Z",
          "iopub.execute_input": "2023-12-02T21:18:10.640156Z",
          "iopub.status.idle": "2023-12-02T21:18:10.647452Z",
          "shell.execute_reply.started": "2023-12-02T21:18:10.640124Z",
          "shell.execute_reply": "2023-12-02T21:18:10.6461Z"
        },
        "trusted": true,
        "id": "p3MqN4Vc3afA"
      },
      "execution_count": null,
      "outputs": []
    },
    {
      "cell_type": "code",
      "source": [
        "import seaborn as sns"
      ],
      "metadata": {
        "execution": {
          "iopub.status.busy": "2023-12-02T21:18:10.72369Z",
          "iopub.execute_input": "2023-12-02T21:18:10.724494Z",
          "iopub.status.idle": "2023-12-02T21:18:10.730825Z",
          "shell.execute_reply.started": "2023-12-02T21:18:10.724449Z",
          "shell.execute_reply": "2023-12-02T21:18:10.729711Z"
        },
        "trusted": true,
        "id": "mHxOw5Sr3afA"
      },
      "execution_count": null,
      "outputs": []
    },
    {
      "cell_type": "code",
      "source": [
        "df.columns.to_list()"
      ],
      "metadata": {
        "execution": {
          "iopub.status.busy": "2023-12-02T21:18:10.80064Z",
          "iopub.execute_input": "2023-12-02T21:18:10.801448Z",
          "iopub.status.idle": "2023-12-02T21:18:10.810651Z",
          "shell.execute_reply.started": "2023-12-02T21:18:10.801402Z",
          "shell.execute_reply": "2023-12-02T21:18:10.809488Z"
        },
        "trusted": true,
        "id": "sgyLWt8b3afA"
      },
      "execution_count": null,
      "outputs": []
    },
    {
      "cell_type": "code",
      "source": [
        "dataprice = df[df['price'] > 10000000]\n",
        "dataprice['price']"
      ],
      "metadata": {
        "execution": {
          "iopub.status.busy": "2023-12-02T21:18:10.872669Z",
          "iopub.execute_input": "2023-12-02T21:18:10.873035Z",
          "iopub.status.idle": "2023-12-02T21:18:10.881762Z",
          "shell.execute_reply.started": "2023-12-02T21:18:10.873007Z",
          "shell.execute_reply": "2023-12-02T21:18:10.88075Z"
        },
        "trusted": true,
        "id": "RcP-_Zvs3afB"
      },
      "execution_count": null,
      "outputs": []
    },
    {
      "cell_type": "code",
      "source": [
        "df[df['price']<1965221]['price'].value_counts()"
      ],
      "metadata": {
        "execution": {
          "iopub.status.busy": "2023-12-02T21:18:10.963984Z",
          "iopub.execute_input": "2023-12-02T21:18:10.964421Z",
          "iopub.status.idle": "2023-12-02T21:18:10.977391Z",
          "shell.execute_reply.started": "2023-12-02T21:18:10.964391Z",
          "shell.execute_reply": "2023-12-02T21:18:10.975894Z"
        },
        "trusted": true,
        "id": "bLSFagRQ3afB"
      },
      "execution_count": null,
      "outputs": []
    },
    {
      "cell_type": "code",
      "source": [
        "sns.histplot(data = df[df['price']<1965221]['price'], kde = True)"
      ],
      "metadata": {
        "execution": {
          "iopub.status.busy": "2023-12-02T21:18:11.060031Z",
          "iopub.execute_input": "2023-12-02T21:18:11.060523Z",
          "iopub.status.idle": "2023-12-02T21:18:11.409673Z",
          "shell.execute_reply.started": "2023-12-02T21:18:11.060489Z",
          "shell.execute_reply": "2023-12-02T21:18:11.408941Z"
        },
        "trusted": true,
        "id": "ZRmK5vSf3afB"
      },
      "execution_count": null,
      "outputs": []
    },
    {
      "cell_type": "code",
      "source": [
        "df1 = df[df['price']<1965221]"
      ],
      "metadata": {
        "execution": {
          "iopub.status.busy": "2023-12-02T21:18:11.496248Z",
          "iopub.execute_input": "2023-12-02T21:18:11.497835Z",
          "iopub.status.idle": "2023-12-02T21:18:11.506152Z",
          "shell.execute_reply.started": "2023-12-02T21:18:11.497776Z",
          "shell.execute_reply": "2023-12-02T21:18:11.504246Z"
        },
        "trusted": true,
        "id": "DdVdXCZq3afB"
      },
      "execution_count": null,
      "outputs": []
    },
    {
      "cell_type": "code",
      "source": [
        "df2 = df1.dropna(subset=['price'])"
      ],
      "metadata": {
        "execution": {
          "iopub.status.busy": "2023-12-02T21:18:11.587601Z",
          "iopub.execute_input": "2023-12-02T21:18:11.588071Z",
          "iopub.status.idle": "2023-12-02T21:18:11.598084Z",
          "shell.execute_reply.started": "2023-12-02T21:18:11.588037Z",
          "shell.execute_reply": "2023-12-02T21:18:11.596725Z"
        },
        "trusted": true,
        "id": "_sYptD_j3afB"
      },
      "execution_count": null,
      "outputs": []
    },
    {
      "cell_type": "code",
      "source": [
        "#sns.histplot( x = df2.bedrooms.value_counts().index,y =df2.bedrooms.value_counts().values ,bins = 9)\n",
        "sns.barplot( x = df2.bedrooms.value_counts().index,y =df2.bedrooms.value_counts().values )\n",
        "df2.bedrooms.value_counts()"
      ],
      "metadata": {
        "execution": {
          "iopub.status.busy": "2023-12-02T21:18:11.659852Z",
          "iopub.execute_input": "2023-12-02T21:18:11.660297Z",
          "iopub.status.idle": "2023-12-02T21:18:11.90198Z",
          "shell.execute_reply.started": "2023-12-02T21:18:11.660264Z",
          "shell.execute_reply": "2023-12-02T21:18:11.900931Z"
        },
        "trusted": true,
        "id": "X069Ap2a3afB"
      },
      "execution_count": null,
      "outputs": []
    },
    {
      "cell_type": "code",
      "source": [
        "df2.bedrooms = df2.bedrooms.fillna(df2.bedrooms.median())\n",
        "df2.bedrooms.median()"
      ],
      "metadata": {
        "execution": {
          "iopub.status.busy": "2023-12-02T21:18:11.90384Z",
          "iopub.execute_input": "2023-12-02T21:18:11.904229Z",
          "iopub.status.idle": "2023-12-02T21:18:11.920683Z",
          "shell.execute_reply.started": "2023-12-02T21:18:11.904193Z",
          "shell.execute_reply": "2023-12-02T21:18:11.918134Z"
        },
        "trusted": true,
        "id": "IllYCA_m3afB"
      },
      "execution_count": null,
      "outputs": []
    },
    {
      "cell_type": "code",
      "source": [
        "df2.info()"
      ],
      "metadata": {
        "execution": {
          "iopub.status.busy": "2023-12-02T21:18:11.923139Z",
          "iopub.execute_input": "2023-12-02T21:18:11.923578Z",
          "iopub.status.idle": "2023-12-02T21:18:11.944482Z",
          "shell.execute_reply.started": "2023-12-02T21:18:11.923548Z",
          "shell.execute_reply": "2023-12-02T21:18:11.942064Z"
        },
        "trusted": true,
        "id": "Xtgzvks13afC"
      },
      "execution_count": null,
      "outputs": []
    },
    {
      "cell_type": "code",
      "source": [
        "cat_cols = [col for col in df2.columns if df2[col].dtypes == \"O\"]\n",
        "cat_cols"
      ],
      "metadata": {
        "execution": {
          "iopub.status.busy": "2023-12-02T21:18:11.947592Z",
          "iopub.execute_input": "2023-12-02T21:18:11.948001Z",
          "iopub.status.idle": "2023-12-02T21:18:11.956005Z",
          "shell.execute_reply.started": "2023-12-02T21:18:11.947968Z",
          "shell.execute_reply": "2023-12-02T21:18:11.955118Z"
        },
        "trusted": true,
        "id": "EGiPJ8zC3afC"
      },
      "execution_count": null,
      "outputs": []
    },
    {
      "cell_type": "markdown",
      "source": [
        "# # lets check how many unique values in those"
      ],
      "metadata": {
        "id": "CMmX35O83afC"
      }
    },
    {
      "cell_type": "code",
      "source": [
        "for each in cat_cols:\n",
        "    print(len(df2[each].unique()),each)"
      ],
      "metadata": {
        "execution": {
          "iopub.status.busy": "2023-12-02T21:18:11.999453Z",
          "iopub.execute_input": "2023-12-02T21:18:12.000077Z",
          "iopub.status.idle": "2023-12-02T21:18:12.013914Z",
          "shell.execute_reply.started": "2023-12-02T21:18:12.000032Z",
          "shell.execute_reply": "2023-12-02T21:18:12.012178Z"
        },
        "trusted": true,
        "id": "oDENjfaN3afD"
      },
      "execution_count": null,
      "outputs": []
    },
    {
      "cell_type": "markdown",
      "source": [
        "# lets see how many cols are seem numerical but in fact cat"
      ],
      "metadata": {
        "id": "Vut-kMKH3afD"
      }
    },
    {
      "cell_type": "code",
      "source": [
        "#tresh\n",
        "potnumericcol = [col for col in df2.columns if col not in cat_cols]\n",
        "potnumericcol"
      ],
      "metadata": {
        "execution": {
          "iopub.status.busy": "2023-12-02T21:18:12.087324Z",
          "iopub.execute_input": "2023-12-02T21:18:12.088847Z",
          "iopub.status.idle": "2023-12-02T21:18:12.098273Z",
          "shell.execute_reply.started": "2023-12-02T21:18:12.088785Z",
          "shell.execute_reply": "2023-12-02T21:18:12.096819Z"
        },
        "trusted": true,
        "id": "5V9Xr92i3afE"
      },
      "execution_count": null,
      "outputs": []
    },
    {
      "cell_type": "markdown",
      "source": [
        "# lets see how many cols are seem numerical but in fact cat"
      ],
      "metadata": {
        "id": "ME1-hznJ3afE"
      }
    },
    {
      "cell_type": "code",
      "source": [
        "treshold = 6\n",
        "numbutcat = [col for col in potnumericcol if len(df2[col].unique()) < treshold]\n",
        "numbutcat"
      ],
      "metadata": {
        "execution": {
          "iopub.status.busy": "2023-12-02T21:18:12.163681Z",
          "iopub.execute_input": "2023-12-02T21:18:12.164084Z",
          "iopub.status.idle": "2023-12-02T21:18:12.178388Z",
          "shell.execute_reply.started": "2023-12-02T21:18:12.164053Z",
          "shell.execute_reply": "2023-12-02T21:18:12.175818Z"
        },
        "trusted": true,
        "id": "eFaha3G73afE"
      },
      "execution_count": null,
      "outputs": []
    },
    {
      "cell_type": "code",
      "source": [
        "for each in numbutcat:\n",
        "    print(df2[each].unique(), each )"
      ],
      "metadata": {
        "execution": {
          "iopub.status.busy": "2023-12-02T21:18:12.247585Z",
          "iopub.execute_input": "2023-12-02T21:18:12.248063Z",
          "iopub.status.idle": "2023-12-02T21:18:12.256822Z",
          "shell.execute_reply.started": "2023-12-02T21:18:12.248027Z",
          "shell.execute_reply": "2023-12-02T21:18:12.254316Z"
        },
        "trusted": true,
        "id": "R0_afoHj3afE"
      },
      "execution_count": null,
      "outputs": []
    },
    {
      "cell_type": "markdown",
      "source": [
        "# now lets see how they effect price based on their mean prices on a barplot"
      ],
      "metadata": {
        "id": "CfV-M_K83afE"
      }
    },
    {
      "cell_type": "code",
      "source": [
        "sns.barplot( x =df2['waterfront'] ,y =df2.groupby('waterfront')['price'].mean() )\n",
        "df2[df2['waterfront']==1]['price'].mean()"
      ],
      "metadata": {
        "execution": {
          "iopub.status.busy": "2023-12-02T21:18:12.359885Z",
          "iopub.execute_input": "2023-12-02T21:18:12.360385Z",
          "iopub.status.idle": "2023-12-02T21:18:12.524674Z",
          "shell.execute_reply.started": "2023-12-02T21:18:12.360323Z",
          "shell.execute_reply": "2023-12-02T21:18:12.523949Z"
        },
        "trusted": true,
        "id": "6g_jju1n3afE"
      },
      "execution_count": null,
      "outputs": []
    },
    {
      "cell_type": "markdown",
      "source": [
        "# why the fuck it does not work?"
      ],
      "metadata": {
        "id": "aEbJwXx13afE"
      }
    },
    {
      "cell_type": "code",
      "source": [
        "print(df2[df2['waterfront'] == 1]['price'].head(100))"
      ],
      "metadata": {
        "execution": {
          "iopub.status.busy": "2023-12-02T21:18:12.526055Z",
          "iopub.execute_input": "2023-12-02T21:18:12.526477Z",
          "iopub.status.idle": "2023-12-02T21:18:12.534778Z",
          "shell.execute_reply.started": "2023-12-02T21:18:12.526453Z",
          "shell.execute_reply": "2023-12-02T21:18:12.532716Z"
        },
        "trusted": true,
        "id": "JLMMRrgj3afF"
      },
      "execution_count": null,
      "outputs": []
    },
    {
      "cell_type": "code",
      "source": [
        "df2.groupby('waterfront')['price'].mean().plot(kind=\"bar\", stacked=True)\n"
      ],
      "metadata": {
        "execution": {
          "iopub.status.busy": "2023-12-02T21:18:12.536728Z",
          "iopub.execute_input": "2023-12-02T21:18:12.537046Z",
          "iopub.status.idle": "2023-12-02T21:18:12.710188Z",
          "shell.execute_reply.started": "2023-12-02T21:18:12.537025Z",
          "shell.execute_reply": "2023-12-02T21:18:12.708604Z"
        },
        "trusted": true,
        "id": "vMgn5pTy3afF"
      },
      "execution_count": null,
      "outputs": []
    },
    {
      "cell_type": "markdown",
      "source": [
        "Encoding for waterfront seems good"
      ],
      "metadata": {
        "id": "eNoS9G6f3afF"
      }
    },
    {
      "cell_type": "code",
      "source": [
        "df2.groupby('view')['price'].mean().plot(kind=\"bar\", stacked=True)"
      ],
      "metadata": {
        "execution": {
          "iopub.status.busy": "2023-12-02T21:18:12.713159Z",
          "iopub.execute_input": "2023-12-02T21:18:12.713556Z",
          "iopub.status.idle": "2023-12-02T21:18:12.904464Z",
          "shell.execute_reply.started": "2023-12-02T21:18:12.713527Z",
          "shell.execute_reply": "2023-12-02T21:18:12.902577Z"
        },
        "trusted": true,
        "id": "E9ZSgUl13afF"
      },
      "execution_count": null,
      "outputs": []
    },
    {
      "cell_type": "markdown",
      "source": [
        "for this I can use k fold target encoding"
      ],
      "metadata": {
        "id": "E_Q_5Mo13afF"
      }
    },
    {
      "cell_type": "code",
      "source": [
        "df2.groupby('condition')['price'].mean().plot(kind=\"bar\", stacked=True)"
      ],
      "metadata": {
        "execution": {
          "iopub.status.busy": "2023-12-02T21:18:12.906427Z",
          "iopub.execute_input": "2023-12-02T21:18:12.906883Z",
          "iopub.status.idle": "2023-12-02T21:18:13.107505Z",
          "shell.execute_reply.started": "2023-12-02T21:18:12.906844Z",
          "shell.execute_reply": "2023-12-02T21:18:13.106115Z"
        },
        "trusted": true,
        "id": "hmm0V3zY3afF"
      },
      "execution_count": null,
      "outputs": []
    },
    {
      "cell_type": "markdown",
      "source": [
        "also good candidate for encoding is k fold target encoding"
      ],
      "metadata": {
        "id": "sWKDpXci3afF"
      }
    },
    {
      "cell_type": "code",
      "source": [
        "df.yr_renovated.value_counts()"
      ],
      "metadata": {
        "execution": {
          "iopub.status.busy": "2023-12-02T21:18:13.109762Z",
          "iopub.execute_input": "2023-12-02T21:18:13.110149Z",
          "iopub.status.idle": "2023-12-02T21:18:13.121082Z",
          "shell.execute_reply.started": "2023-12-02T21:18:13.110117Z",
          "shell.execute_reply": "2023-12-02T21:18:13.119383Z"
        },
        "trusted": true,
        "id": "Lt1rkiug3afG"
      },
      "execution_count": null,
      "outputs": []
    },
    {
      "cell_type": "markdown",
      "source": [
        "there are a lot of 0 values it probably means they are not renovated lets check"
      ],
      "metadata": {
        "id": "IeJ8-h-73afG"
      }
    },
    {
      "cell_type": "code",
      "source": [
        "df2[df2['yr_renovated']==0]['price'].mean()"
      ],
      "metadata": {
        "execution": {
          "iopub.status.busy": "2023-12-02T21:18:13.122912Z",
          "iopub.execute_input": "2023-12-02T21:18:13.123341Z",
          "iopub.status.idle": "2023-12-02T21:18:13.138754Z",
          "shell.execute_reply.started": "2023-12-02T21:18:13.123304Z",
          "shell.execute_reply": "2023-12-02T21:18:13.136904Z"
        },
        "trusted": true,
        "id": "qgzS9EZ13afG"
      },
      "execution_count": null,
      "outputs": []
    },
    {
      "cell_type": "code",
      "source": [
        "df2[df2['yr_renovated']!=0]['price'].mean()"
      ],
      "metadata": {
        "execution": {
          "iopub.status.busy": "2023-12-02T21:18:13.141403Z",
          "iopub.execute_input": "2023-12-02T21:18:13.1419Z",
          "iopub.status.idle": "2023-12-02T21:18:13.154954Z",
          "shell.execute_reply.started": "2023-12-02T21:18:13.141859Z",
          "shell.execute_reply": "2023-12-02T21:18:13.153324Z"
        },
        "trusted": true,
        "id": "CAWFeml53afG"
      },
      "execution_count": null,
      "outputs": []
    },
    {
      "cell_type": "code",
      "source": [
        "df2.head(10)"
      ],
      "metadata": {
        "execution": {
          "iopub.status.busy": "2023-12-02T21:18:13.157259Z",
          "iopub.execute_input": "2023-12-02T21:18:13.157795Z",
          "iopub.status.idle": "2023-12-02T21:18:13.186512Z",
          "shell.execute_reply.started": "2023-12-02T21:18:13.15775Z",
          "shell.execute_reply": "2023-12-02T21:18:13.18529Z"
        },
        "trusted": true,
        "id": "5lljIWI03afG"
      },
      "execution_count": null,
      "outputs": []
    },
    {
      "cell_type": "markdown",
      "source": [
        "it seems like they did not need renovation so their price could be a bit higher"
      ],
      "metadata": {
        "id": "VInBIYBp3afH"
      }
    },
    {
      "cell_type": "code",
      "source": [
        "meannotrenovated= df2[df2['yr_renovated']==0]['yr_built'].mean()"
      ],
      "metadata": {
        "execution": {
          "iopub.status.busy": "2023-12-02T21:18:13.189139Z",
          "iopub.execute_input": "2023-12-02T21:18:13.189484Z",
          "iopub.status.idle": "2023-12-02T21:18:13.19842Z",
          "shell.execute_reply.started": "2023-12-02T21:18:13.189459Z",
          "shell.execute_reply": "2023-12-02T21:18:13.196698Z"
        },
        "trusted": true,
        "id": "2iX5eTn93afH"
      },
      "execution_count": null,
      "outputs": []
    },
    {
      "cell_type": "code",
      "source": [
        "meanrenovated = df2[df2['yr_renovated']!=0]['yr_built'].mean()"
      ],
      "metadata": {
        "execution": {
          "iopub.status.busy": "2023-12-02T21:18:13.20078Z",
          "iopub.execute_input": "2023-12-02T21:18:13.201105Z",
          "iopub.status.idle": "2023-12-02T21:18:13.213485Z",
          "shell.execute_reply.started": "2023-12-02T21:18:13.201079Z",
          "shell.execute_reply": "2023-12-02T21:18:13.211598Z"
        },
        "trusted": true,
        "id": "WZymGhiS3afH"
      },
      "execution_count": null,
      "outputs": []
    },
    {
      "cell_type": "markdown",
      "source": [
        "so as expected not renovated ones are overall newer than those which are renovated"
      ],
      "metadata": {
        "id": "P0eq0IYE3afH"
      }
    },
    {
      "cell_type": "markdown",
      "source": [
        "apparently I need to change values which have 0 in their 'yr_built' column with current year + difference between those means so that I wont get unusual result when I will subtract them from current year"
      ],
      "metadata": {
        "id": "LfUB74Io3afH"
      }
    },
    {
      "cell_type": "code",
      "source": [
        "import datetime\n",
        "\n",
        "this_year = datetime.datetime.now().year\n",
        "df2['yr_renovated'] = df2['yr_renovated'].apply(lambda x: this_year+(meannotrenovated-meanrenovated) if x == 0 else x)"
      ],
      "metadata": {
        "execution": {
          "iopub.status.busy": "2023-12-02T21:18:13.267819Z",
          "iopub.execute_input": "2023-12-02T21:18:13.268192Z",
          "iopub.status.idle": "2023-12-02T21:18:13.278248Z",
          "shell.execute_reply.started": "2023-12-02T21:18:13.268163Z",
          "shell.execute_reply": "2023-12-02T21:18:13.276547Z"
        },
        "trusted": true,
        "id": "yDbWGeGx3afH"
      },
      "execution_count": null,
      "outputs": []
    },
    {
      "cell_type": "markdown",
      "source": [
        "lets change this into more simple term so like decreasing from current year"
      ],
      "metadata": {
        "id": "-AGaMrhT3afI"
      }
    },
    {
      "cell_type": "code",
      "source": [
        "df2['yr_renovated'] = df2['yr_renovated'].apply(lambda x: x-this_year)"
      ],
      "metadata": {
        "execution": {
          "iopub.status.busy": "2023-12-02T21:18:13.347343Z",
          "iopub.execute_input": "2023-12-02T21:18:13.347707Z",
          "iopub.status.idle": "2023-12-02T21:18:13.356336Z",
          "shell.execute_reply.started": "2023-12-02T21:18:13.347683Z",
          "shell.execute_reply": "2023-12-02T21:18:13.354528Z"
        },
        "trusted": true,
        "id": "AecW_iL73afI"
      },
      "execution_count": null,
      "outputs": []
    },
    {
      "cell_type": "code",
      "source": [
        "df2.groupby('yr_built').size()"
      ],
      "metadata": {
        "execution": {
          "iopub.status.busy": "2023-12-02T21:18:13.44874Z",
          "iopub.execute_input": "2023-12-02T21:18:13.449117Z",
          "iopub.status.idle": "2023-12-02T21:18:13.46076Z",
          "shell.execute_reply.started": "2023-12-02T21:18:13.449087Z",
          "shell.execute_reply": "2023-12-02T21:18:13.459669Z"
        },
        "trusted": true,
        "id": "b9gLzvtO3afI"
      },
      "execution_count": null,
      "outputs": []
    },
    {
      "cell_type": "code",
      "source": [
        "df2['yr_built'] = df2['yr_built'].apply(lambda x : this_year-x)"
      ],
      "metadata": {
        "execution": {
          "iopub.status.busy": "2023-12-02T21:18:13.567637Z",
          "iopub.execute_input": "2023-12-02T21:18:13.568782Z",
          "iopub.status.idle": "2023-12-02T21:18:13.577455Z",
          "shell.execute_reply.started": "2023-12-02T21:18:13.568734Z",
          "shell.execute_reply": "2023-12-02T21:18:13.576437Z"
        },
        "trusted": true,
        "id": "DN-9OEBo3afI"
      },
      "execution_count": null,
      "outputs": []
    },
    {
      "cell_type": "code",
      "source": [
        "df2.head()"
      ],
      "metadata": {
        "execution": {
          "iopub.status.busy": "2023-12-02T21:18:13.636Z",
          "iopub.execute_input": "2023-12-02T21:18:13.636549Z",
          "iopub.status.idle": "2023-12-02T21:18:13.664413Z",
          "shell.execute_reply.started": "2023-12-02T21:18:13.636506Z",
          "shell.execute_reply": "2023-12-02T21:18:13.663062Z"
        },
        "trusted": true,
        "id": "s_1Ss-wv3afI"
      },
      "execution_count": null,
      "outputs": []
    },
    {
      "cell_type": "code",
      "source": [
        "for each in df2.columns:\n",
        "    print(each, len(df2[each].unique()))"
      ],
      "metadata": {
        "execution": {
          "iopub.status.busy": "2023-12-02T21:18:13.727795Z",
          "iopub.execute_input": "2023-12-02T21:18:13.728215Z",
          "iopub.status.idle": "2023-12-02T21:18:13.741199Z",
          "shell.execute_reply.started": "2023-12-02T21:18:13.728176Z",
          "shell.execute_reply": "2023-12-02T21:18:13.739514Z"
        },
        "trusted": true,
        "id": "k7TV3B_E3afI"
      },
      "execution_count": null,
      "outputs": []
    },
    {
      "cell_type": "markdown",
      "source": [
        "# Now lets figure out what to do with Streets because 4425 different name is very high for one hot encoding and might be unnecessary for target encoding so maybe grouping them then encoding them could be a good idea!"
      ],
      "metadata": {
        "id": "-_kap3JW3afJ"
      }
    },
    {
      "cell_type": "code",
      "source": [
        "quantile_list = [0, 0.20, 0.40, 0.60, 0.80, 1]\n",
        "quantile_list_price = []\n",
        "for each in quantile_list:\n",
        "    print(df2['price'].quantile(each))\n",
        "    quantile_list_price.append(df2['price'].quantile(each))\n"
      ],
      "metadata": {
        "execution": {
          "iopub.status.busy": "2023-12-02T21:18:13.830066Z",
          "iopub.execute_input": "2023-12-02T21:18:13.830432Z",
          "iopub.status.idle": "2023-12-02T21:18:13.847732Z",
          "shell.execute_reply.started": "2023-12-02T21:18:13.830404Z",
          "shell.execute_reply": "2023-12-02T21:18:13.846444Z"
        },
        "trusted": true,
        "id": "Z0pd4ibp3afJ"
      },
      "execution_count": null,
      "outputs": []
    },
    {
      "cell_type": "code",
      "source": [
        "my_dict = dict(zip(quantile_list, quantile_list_price))"
      ],
      "metadata": {
        "execution": {
          "iopub.status.busy": "2023-12-02T21:18:13.90347Z",
          "iopub.execute_input": "2023-12-02T21:18:13.90386Z",
          "iopub.status.idle": "2023-12-02T21:18:13.909979Z",
          "shell.execute_reply.started": "2023-12-02T21:18:13.903831Z",
          "shell.execute_reply": "2023-12-02T21:18:13.90893Z"
        },
        "trusted": true,
        "id": "kpUsd1JG3afJ"
      },
      "execution_count": null,
      "outputs": []
    },
    {
      "cell_type": "code",
      "source": [
        "my_dict"
      ],
      "metadata": {
        "execution": {
          "iopub.status.busy": "2023-12-02T21:18:13.983853Z",
          "iopub.execute_input": "2023-12-02T21:18:13.98421Z",
          "iopub.status.idle": "2023-12-02T21:18:13.991793Z",
          "shell.execute_reply.started": "2023-12-02T21:18:13.984186Z",
          "shell.execute_reply": "2023-12-02T21:18:13.990611Z"
        },
        "trusted": true,
        "id": "gWZIj98P3afJ"
      },
      "execution_count": null,
      "outputs": []
    },
    {
      "cell_type": "code",
      "source": [
        "for key, values in my_dict.items():\n",
        "    print(key,values)"
      ],
      "metadata": {
        "execution": {
          "iopub.status.busy": "2023-12-02T21:18:14.079123Z",
          "iopub.execute_input": "2023-12-02T21:18:14.080433Z",
          "iopub.status.idle": "2023-12-02T21:18:14.087525Z",
          "shell.execute_reply.started": "2023-12-02T21:18:14.080325Z",
          "shell.execute_reply": "2023-12-02T21:18:14.085993Z"
        },
        "trusted": true,
        "id": "Fb6dFCzn3afJ"
      },
      "execution_count": null,
      "outputs": []
    },
    {
      "cell_type": "code",
      "source": [
        "import numpy as np\n",
        "\n",
        "conditions = [\n",
        "    (df2['price'] < 7800),\n",
        "    (7800<= df2['price']) & (df2['price'] < 300000),\n",
        "    (300000 <= df2['price']) & (df2['price'] < 405020),\n",
        "    (405020 <= df2['price']) & (df2['price'] < 530000),\n",
        "    (530000 <= df2['price']) & (df2['price'] < 702700),\n",
        "    (df2['price'] >= 702700)\n",
        "]\n",
        "\n",
        "values = [0.1, 0.2, 0.3, 0.4, 0.6, 1.0]\n",
        "\n",
        "df2['street_labels'] = np.select(conditions, values, default=np.nan)"
      ],
      "metadata": {
        "execution": {
          "iopub.status.busy": "2023-12-02T21:18:14.167461Z",
          "iopub.execute_input": "2023-12-02T21:18:14.167931Z",
          "iopub.status.idle": "2023-12-02T21:18:14.183252Z",
          "shell.execute_reply.started": "2023-12-02T21:18:14.167895Z",
          "shell.execute_reply": "2023-12-02T21:18:14.18166Z"
        },
        "trusted": true,
        "id": "y4R1pPAF3afK"
      },
      "execution_count": null,
      "outputs": []
    },
    {
      "cell_type": "code",
      "source": [
        "#df2['street_labels'] = [f\"Q{i}\" for i in pd.qcut(df2['price'], quantile_list, labels=False, duplicates='drop')]"
      ],
      "metadata": {
        "execution": {
          "iopub.status.busy": "2023-12-02T21:18:14.271473Z",
          "iopub.execute_input": "2023-12-02T21:18:14.271824Z",
          "iopub.status.idle": "2023-12-02T21:18:14.278978Z",
          "shell.execute_reply.started": "2023-12-02T21:18:14.271796Z",
          "shell.execute_reply": "2023-12-02T21:18:14.276992Z"
        },
        "trusted": true,
        "id": "J1QFamLi3afK"
      },
      "execution_count": null,
      "outputs": []
    },
    {
      "cell_type": "code",
      "source": [
        "common_streetnames = df2.groupby('street_labels')['street'].agg(lambda x: x.mode().iloc[0] if not x.mode().empty else None)"
      ],
      "metadata": {
        "execution": {
          "iopub.status.busy": "2023-12-02T21:18:14.37975Z",
          "iopub.execute_input": "2023-12-02T21:18:14.380256Z",
          "iopub.status.idle": "2023-12-02T21:18:14.395668Z",
          "shell.execute_reply.started": "2023-12-02T21:18:14.380221Z",
          "shell.execute_reply": "2023-12-02T21:18:14.393529Z"
        },
        "trusted": true,
        "id": "j2b9sBw_3afK"
      },
      "execution_count": null,
      "outputs": []
    },
    {
      "cell_type": "code",
      "source": [
        "common_streetnames"
      ],
      "metadata": {
        "execution": {
          "iopub.status.busy": "2023-12-02T21:18:14.46054Z",
          "iopub.execute_input": "2023-12-02T21:18:14.461024Z",
          "iopub.status.idle": "2023-12-02T21:18:14.47202Z",
          "shell.execute_reply.started": "2023-12-02T21:18:14.460987Z",
          "shell.execute_reply": "2023-12-02T21:18:14.470414Z"
        },
        "trusted": true,
        "id": "s79_VfTU3afK"
      },
      "execution_count": null,
      "outputs": []
    },
    {
      "cell_type": "code",
      "source": [
        "filtered_df = df2[(df2['street'] == '1610 N 185th St')]\n",
        "filtered_df"
      ],
      "metadata": {
        "execution": {
          "iopub.status.busy": "2023-12-02T21:18:14.524948Z",
          "iopub.execute_input": "2023-12-02T21:18:14.525405Z",
          "iopub.status.idle": "2023-12-02T21:18:14.547725Z",
          "shell.execute_reply.started": "2023-12-02T21:18:14.525373Z",
          "shell.execute_reply": "2023-12-02T21:18:14.545903Z"
        },
        "trusted": true,
        "id": "NlceAQn43afK"
      },
      "execution_count": null,
      "outputs": []
    },
    {
      "cell_type": "code",
      "source": [
        "df2['street'].value_counts()"
      ],
      "metadata": {
        "execution": {
          "iopub.status.busy": "2023-12-02T21:18:14.624711Z",
          "iopub.execute_input": "2023-12-02T21:18:14.625179Z",
          "iopub.status.idle": "2023-12-02T21:18:14.641517Z",
          "shell.execute_reply.started": "2023-12-02T21:18:14.625136Z",
          "shell.execute_reply": "2023-12-02T21:18:14.639849Z"
        },
        "trusted": true,
        "id": "uBsNMFml3afK"
      },
      "execution_count": null,
      "outputs": []
    },
    {
      "cell_type": "code",
      "source": [
        "street_dict = {'0.1': [], '0.2': [], '0.3': [], '0.4': [], '0.6': [], '1.0': []}\n",
        "\n",
        "for street in df2['street'].to_list():\n",
        "    if pd.notna(street):\n",
        "        mask = df2['street'] == street  # Check if 'street' column matches the given street name\n",
        "        matching_street_labels = df2.loc[mask, 'street_labels']\n",
        "\n",
        "        # Convert matching_street_labels to string and use it as a key\n",
        "        key = str(matching_street_labels.iloc[0]) if not matching_street_labels.empty else None\n",
        "\n",
        "        if key in street_dict:\n",
        "            street_dict[key].append(street)\n",
        "\n"
      ],
      "metadata": {
        "execution": {
          "iopub.status.busy": "2023-12-02T21:18:14.687589Z",
          "iopub.execute_input": "2023-12-02T21:18:14.688958Z",
          "iopub.status.idle": "2023-12-02T21:18:17.012759Z",
          "shell.execute_reply.started": "2023-12-02T21:18:14.688918Z",
          "shell.execute_reply": "2023-12-02T21:18:17.011014Z"
        },
        "trusted": true,
        "id": "aVKnV7u23afL"
      },
      "execution_count": null,
      "outputs": []
    },
    {
      "cell_type": "code",
      "source": [
        "my_dict = {'key1': [1, 2, 3], 'key2': [4, 5, 6], 'key3': [7, 8, 9]}\n",
        "\n",
        "search_value = 5\n",
        "found_keys = []\n",
        "\n",
        "# Iterate through dictionary items\n",
        "for key, value_list in my_dict.items():\n",
        "    # Check if the search_value is in the current list\n",
        "    if search_value in value_list:\n",
        "        found_keys.append(key)\n",
        "\n",
        "# Display the keys where the value was found\n",
        "print(f\"Search value {search_value} found in the following keys: {found_keys}\")"
      ],
      "metadata": {
        "execution": {
          "iopub.status.busy": "2023-12-02T21:18:17.015511Z",
          "iopub.execute_input": "2023-12-02T21:18:17.015955Z",
          "iopub.status.idle": "2023-12-02T21:18:17.023066Z",
          "shell.execute_reply.started": "2023-12-02T21:18:17.015914Z",
          "shell.execute_reply": "2023-12-02T21:18:17.022161Z"
        },
        "trusted": true,
        "id": "-Ygi0iV63afL"
      },
      "execution_count": null,
      "outputs": []
    },
    {
      "cell_type": "code",
      "source": [
        "df2.loc[df2['street_labels']==0.2,'street_labels']"
      ],
      "metadata": {
        "execution": {
          "iopub.status.busy": "2023-12-02T21:18:17.025641Z",
          "iopub.execute_input": "2023-12-02T21:18:17.026218Z",
          "iopub.status.idle": "2023-12-02T21:18:17.040961Z",
          "shell.execute_reply.started": "2023-12-02T21:18:17.026182Z",
          "shell.execute_reply": "2023-12-02T21:18:17.039912Z"
        },
        "trusted": true,
        "id": "dbrZN9xh3afL"
      },
      "execution_count": null,
      "outputs": []
    },
    {
      "cell_type": "markdown",
      "source": [
        "# now lets engage with cities"
      ],
      "metadata": {
        "id": "912ucwj53afL"
      }
    },
    {
      "cell_type": "code",
      "source": [
        "stdvalforcity = df2.groupby('city')['price'].std()\n",
        "df2.groupby('city')['price'].mean().sort_values().plot(kind='bar',yerr=stdvalforcity, capsize=5, stacked=True,figsize=(30, 15))\n"
      ],
      "metadata": {
        "execution": {
          "iopub.status.busy": "2023-12-02T21:18:17.044934Z",
          "iopub.execute_input": "2023-12-02T21:18:17.045532Z",
          "iopub.status.idle": "2023-12-02T21:18:17.739766Z",
          "shell.execute_reply.started": "2023-12-02T21:18:17.045488Z",
          "shell.execute_reply": "2023-12-02T21:18:17.738229Z"
        },
        "trusted": true,
        "id": "1__gH9ns3afL"
      },
      "execution_count": null,
      "outputs": []
    },
    {
      "cell_type": "code",
      "source": [
        "df2[df2['city']=='Inglewood-Finn Hill']"
      ],
      "metadata": {
        "execution": {
          "iopub.status.busy": "2023-12-02T21:18:17.741298Z",
          "iopub.execute_input": "2023-12-02T21:18:17.741683Z",
          "iopub.status.idle": "2023-12-02T21:18:17.761926Z",
          "shell.execute_reply.started": "2023-12-02T21:18:17.741656Z",
          "shell.execute_reply": "2023-12-02T21:18:17.760627Z"
        },
        "trusted": true,
        "id": "7wDCniB_3afM"
      },
      "execution_count": null,
      "outputs": []
    },
    {
      "cell_type": "code",
      "source": [
        "cities = df2.groupby('city')['city'].unique()\n",
        "citiesl = []\n",
        "for each in cities:\n",
        "    citiesl.append(each)\n"
      ],
      "metadata": {
        "execution": {
          "iopub.status.busy": "2023-12-02T21:18:17.7634Z",
          "iopub.execute_input": "2023-12-02T21:18:17.764512Z",
          "iopub.status.idle": "2023-12-02T21:18:17.780244Z",
          "shell.execute_reply.started": "2023-12-02T21:18:17.764473Z",
          "shell.execute_reply": "2023-12-02T21:18:17.77885Z"
        },
        "trusted": true,
        "id": "2wO87uHx3afM"
      },
      "execution_count": null,
      "outputs": []
    },
    {
      "cell_type": "code",
      "source": [
        "city_stats = df.groupby('city')['price'].agg(['mean', 'std']).reset_index() # reset index was neccesary?\n",
        "city_stats['city'] = citiesl\n"
      ],
      "metadata": {
        "execution": {
          "iopub.status.busy": "2023-12-02T21:18:17.781928Z",
          "iopub.execute_input": "2023-12-02T21:18:17.783858Z",
          "iopub.status.idle": "2023-12-02T21:18:17.793377Z",
          "shell.execute_reply.started": "2023-12-02T21:18:17.783766Z",
          "shell.execute_reply": "2023-12-02T21:18:17.792448Z"
        },
        "trusted": true,
        "id": "qcUklr-j3afM"
      },
      "execution_count": null,
      "outputs": []
    },
    {
      "cell_type": "code",
      "source": [
        "city_stats['city'] = city_stats['city'].astype(str)"
      ],
      "metadata": {
        "execution": {
          "iopub.status.busy": "2023-12-02T21:18:17.794816Z",
          "iopub.execute_input": "2023-12-02T21:18:17.795425Z",
          "iopub.status.idle": "2023-12-02T21:18:17.811157Z",
          "shell.execute_reply.started": "2023-12-02T21:18:17.795392Z",
          "shell.execute_reply": "2023-12-02T21:18:17.809352Z"
        },
        "trusted": true,
        "id": "Mznht_Ed3afM"
      },
      "execution_count": null,
      "outputs": []
    },
    {
      "cell_type": "code",
      "source": [
        "city_stats['city'] = city_stats['city'].apply(lambda x: x.strip('[]').replace(\"'\", '') )"
      ],
      "metadata": {
        "execution": {
          "iopub.status.busy": "2023-12-02T21:18:17.814406Z",
          "iopub.execute_input": "2023-12-02T21:18:17.815038Z",
          "iopub.status.idle": "2023-12-02T21:18:17.828696Z",
          "shell.execute_reply.started": "2023-12-02T21:18:17.814997Z",
          "shell.execute_reply": "2023-12-02T21:18:17.826462Z"
        },
        "trusted": true,
        "id": "TJPuuOQI3afM"
      },
      "execution_count": null,
      "outputs": []
    },
    {
      "cell_type": "code",
      "source": [
        "df2 = pd.merge(df2, city_stats, on ='city', how ='left',suffixes=('', '_stats'))"
      ],
      "metadata": {
        "execution": {
          "iopub.status.busy": "2023-12-02T21:18:17.833805Z",
          "iopub.execute_input": "2023-12-02T21:18:17.835075Z",
          "iopub.status.idle": "2023-12-02T21:18:17.847022Z",
          "shell.execute_reply.started": "2023-12-02T21:18:17.83503Z",
          "shell.execute_reply": "2023-12-02T21:18:17.844942Z"
        },
        "trusted": true,
        "id": "t8AkosfS3afN"
      },
      "execution_count": null,
      "outputs": []
    },
    {
      "cell_type": "code",
      "source": [
        "#scaling_factor = 0.01  # Adjust as needed\n",
        "#scaled_lower_bound = df2['mean'] - df2['std'] * scaling_factor\n",
        "#scaled_upper_bound = df2['mean'] + df2['std'] * scaling_factor\n",
        "\n",
        "df2['fluctuatingmeanbycity'] = np.random.normal(loc=df2['mean'], scale=df2['std'], size=len(df2))"
      ],
      "metadata": {
        "execution": {
          "iopub.status.busy": "2023-12-02T21:18:17.849561Z",
          "iopub.execute_input": "2023-12-02T21:18:17.850984Z",
          "iopub.status.idle": "2023-12-02T21:18:17.858304Z",
          "shell.execute_reply.started": "2023-12-02T21:18:17.850896Z",
          "shell.execute_reply": "2023-12-02T21:18:17.856902Z"
        },
        "trusted": true,
        "id": "ISeHsYQ83afN"
      },
      "execution_count": null,
      "outputs": []
    },
    {
      "cell_type": "code",
      "source": [
        "df2 = df2.rename(columns={'mean': 'meanbycity', 'std': 'stdbycity'})"
      ],
      "metadata": {
        "execution": {
          "iopub.status.busy": "2023-12-02T21:18:17.860451Z",
          "iopub.execute_input": "2023-12-02T21:18:17.860872Z",
          "iopub.status.idle": "2023-12-02T21:18:17.874104Z",
          "shell.execute_reply.started": "2023-12-02T21:18:17.860837Z",
          "shell.execute_reply": "2023-12-02T21:18:17.871839Z"
        },
        "trusted": true,
        "id": "qi5kzahj3afN"
      },
      "execution_count": null,
      "outputs": []
    },
    {
      "cell_type": "markdown",
      "source": [
        "# City also kind of dealt with now I just need to remove other columns"
      ],
      "metadata": {
        "id": "p-6WlyKI3afN"
      }
    },
    {
      "cell_type": "code",
      "source": [
        "df2['statezip'].value_counts()\n"
      ],
      "metadata": {
        "execution": {
          "iopub.status.busy": "2023-12-02T21:18:17.876141Z",
          "iopub.execute_input": "2023-12-02T21:18:17.877123Z",
          "iopub.status.idle": "2023-12-02T21:18:17.890911Z",
          "shell.execute_reply.started": "2023-12-02T21:18:17.877076Z",
          "shell.execute_reply": "2023-12-02T21:18:17.88959Z"
        },
        "trusted": true,
        "id": "Hg_Ekj373afN"
      },
      "execution_count": null,
      "outputs": []
    },
    {
      "cell_type": "code",
      "source": [
        "stdvalforcity = df2.groupby('statezip')['price'].std()\n",
        "df2.groupby('statezip')['price'].mean().sort_values().plot(kind='bar',yerr=stdvalforcity, capsize=5, stacked=True,figsize=(30, 15))\n",
        "#plt.xlabel('Statezip')\n",
        "#plt.ylabel('Mean Value')\n",
        "#plt.title('Mean Values by Statezip')"
      ],
      "metadata": {
        "execution": {
          "iopub.status.busy": "2023-12-02T21:18:17.892248Z",
          "iopub.execute_input": "2023-12-02T21:18:17.893424Z",
          "iopub.status.idle": "2023-12-02T21:18:18.804049Z",
          "shell.execute_reply.started": "2023-12-02T21:18:17.89339Z",
          "shell.execute_reply": "2023-12-02T21:18:18.802555Z"
        },
        "trusted": true,
        "id": "RMcG6_zG3afP"
      },
      "execution_count": null,
      "outputs": []
    },
    {
      "cell_type": "code",
      "source": [
        "Statezips = df2.groupby('statezip')['statezip'].unique()\n",
        "Statezipsl = []\n",
        "for each in Statezips:\n",
        "    Statezipsl.append(each)\n",
        "Statezip_stats = df.groupby('statezip')['price'].agg(['mean', 'std']).reset_index() # reset index was neccesary?\n",
        "Statezip_stats['statezip_names'] = Statezipsl\n",
        "df2 = pd.merge(df2, Statezip_stats, on ='statezip', how ='left',suffixes=('', '_stats'))\n",
        "df2['fluctuatingmeanbystatezip'] = np.random.normal(loc=df2['mean'], scale=df2['std'], size=len(df2))"
      ],
      "metadata": {
        "execution": {
          "iopub.status.busy": "2023-12-02T21:18:18.806142Z",
          "iopub.execute_input": "2023-12-02T21:18:18.806578Z",
          "iopub.status.idle": "2023-12-02T21:18:18.829691Z",
          "shell.execute_reply.started": "2023-12-02T21:18:18.806542Z",
          "shell.execute_reply": "2023-12-02T21:18:18.828629Z"
        },
        "trusted": true,
        "id": "fF_kRJ973afP"
      },
      "execution_count": null,
      "outputs": []
    },
    {
      "cell_type": "code",
      "source": [
        "df2 = df2.rename(columns={'mean': 'meanbyzipcode', 'std': 'stdzipcode'})"
      ],
      "metadata": {
        "execution": {
          "iopub.status.busy": "2023-12-02T21:18:18.831391Z",
          "iopub.execute_input": "2023-12-02T21:18:18.832703Z",
          "iopub.status.idle": "2023-12-02T21:18:18.841207Z",
          "shell.execute_reply.started": "2023-12-02T21:18:18.83266Z",
          "shell.execute_reply": "2023-12-02T21:18:18.839793Z"
        },
        "trusted": true,
        "id": "t0vQTk0m3afP"
      },
      "execution_count": null,
      "outputs": []
    },
    {
      "cell_type": "markdown",
      "source": [
        "# Don't forget to write a function to encode new data as test data!!!!!"
      ],
      "metadata": {
        "id": "FuHUIeFS3afP"
      }
    },
    {
      "cell_type": "code",
      "source": [
        "df2['date'].value_counts()"
      ],
      "metadata": {
        "execution": {
          "iopub.status.busy": "2023-12-02T21:18:18.843062Z",
          "iopub.execute_input": "2023-12-02T21:18:18.84334Z",
          "iopub.status.idle": "2023-12-02T21:18:18.856293Z",
          "shell.execute_reply.started": "2023-12-02T21:18:18.843315Z",
          "shell.execute_reply": "2023-12-02T21:18:18.854655Z"
        },
        "trusted": true,
        "id": "_dRu3lam3afP"
      },
      "execution_count": null,
      "outputs": []
    },
    {
      "cell_type": "code",
      "source": [
        "#for each in cat_cols:\n",
        "#for each in df2.columns:\n",
        "#    print(df2[each].value_counts())\n",
        "#    print(df2[each].nunique(),each)\n",
        "#    print('this is value_counts for ', '!!!!', each)"
      ],
      "metadata": {
        "execution": {
          "iopub.status.busy": "2023-12-02T21:18:18.858258Z",
          "iopub.execute_input": "2023-12-02T21:18:18.859109Z",
          "iopub.status.idle": "2023-12-02T21:18:18.870862Z",
          "shell.execute_reply.started": "2023-12-02T21:18:18.859083Z",
          "shell.execute_reply": "2023-12-02T21:18:18.868903Z"
        },
        "trusted": true,
        "id": "tsURy-hw3afQ"
      },
      "execution_count": null,
      "outputs": []
    },
    {
      "cell_type": "code",
      "source": [
        "df2.condition.value_counts()"
      ],
      "metadata": {
        "execution": {
          "iopub.status.busy": "2023-12-02T21:18:18.872598Z",
          "iopub.execute_input": "2023-12-02T21:18:18.872992Z",
          "iopub.status.idle": "2023-12-02T21:18:18.889646Z",
          "shell.execute_reply.started": "2023-12-02T21:18:18.872961Z",
          "shell.execute_reply": "2023-12-02T21:18:18.888126Z"
        },
        "trusted": true,
        "id": "RoTfzkj73afQ"
      },
      "execution_count": null,
      "outputs": []
    },
    {
      "cell_type": "code",
      "source": [
        "# country is useless\n",
        "df2.drop(['country'], inplace =True, axis =1)"
      ],
      "metadata": {
        "execution": {
          "iopub.status.busy": "2023-12-02T21:18:18.891485Z",
          "iopub.execute_input": "2023-12-02T21:18:18.891829Z",
          "iopub.status.idle": "2023-12-02T21:18:18.901244Z",
          "shell.execute_reply.started": "2023-12-02T21:18:18.891803Z",
          "shell.execute_reply": "2023-12-02T21:18:18.899432Z"
        },
        "trusted": true,
        "id": "QzeXH1z-3afQ"
      },
      "execution_count": null,
      "outputs": []
    },
    {
      "cell_type": "code",
      "source": [
        "df2.shape\n"
      ],
      "metadata": {
        "execution": {
          "iopub.status.busy": "2023-12-02T21:18:18.902797Z",
          "iopub.execute_input": "2023-12-02T21:18:18.903154Z",
          "iopub.status.idle": "2023-12-02T21:18:18.916011Z",
          "shell.execute_reply.started": "2023-12-02T21:18:18.903126Z",
          "shell.execute_reply": "2023-12-02T21:18:18.914772Z"
        },
        "trusted": true,
        "id": "H62_1wgO3afQ"
      },
      "execution_count": null,
      "outputs": []
    },
    {
      "cell_type": "code",
      "source": [
        "df2['date'].tail(100)"
      ],
      "metadata": {
        "execution": {
          "iopub.status.busy": "2023-12-02T21:18:18.917233Z",
          "iopub.execute_input": "2023-12-02T21:18:18.917715Z",
          "iopub.status.idle": "2023-12-02T21:18:18.935037Z",
          "shell.execute_reply.started": "2023-12-02T21:18:18.917677Z",
          "shell.execute_reply": "2023-12-02T21:18:18.931519Z"
        },
        "trusted": true,
        "id": "07ea0S8n3afR"
      },
      "execution_count": null,
      "outputs": []
    },
    {
      "cell_type": "code",
      "source": [
        "#df2.loc[0,'date'].day_name()\n",
        "df2['date']= pd.to_datetime(df2['date'], format= '%Y-%m-%d %X')"
      ],
      "metadata": {
        "execution": {
          "iopub.status.busy": "2023-12-02T21:18:18.93692Z",
          "iopub.execute_input": "2023-12-02T21:18:18.937441Z",
          "iopub.status.idle": "2023-12-02T21:18:18.94425Z",
          "shell.execute_reply.started": "2023-12-02T21:18:18.937408Z",
          "shell.execute_reply": "2023-12-02T21:18:18.943426Z"
        },
        "trusted": true,
        "id": "SzgW2mAO3afR"
      },
      "execution_count": null,
      "outputs": []
    },
    {
      "cell_type": "code",
      "source": [
        "#df2.loc[0,'date'].day_name()\n",
        "df2['Dayofweek']= df2['date'].dt.day_name()"
      ],
      "metadata": {
        "execution": {
          "iopub.status.busy": "2023-12-02T21:18:18.945656Z",
          "iopub.execute_input": "2023-12-02T21:18:18.94606Z",
          "iopub.status.idle": "2023-12-02T21:18:18.957026Z",
          "shell.execute_reply.started": "2023-12-02T21:18:18.946036Z",
          "shell.execute_reply": "2023-12-02T21:18:18.956163Z"
        },
        "trusted": true,
        "id": "JaVUEIJq3afR"
      },
      "execution_count": null,
      "outputs": []
    },
    {
      "cell_type": "code",
      "source": [
        "df2['date'].max()-df2['date'].min()"
      ],
      "metadata": {
        "execution": {
          "iopub.status.busy": "2023-12-02T21:18:18.958488Z",
          "iopub.execute_input": "2023-12-02T21:18:18.95883Z",
          "iopub.status.idle": "2023-12-02T21:18:18.97259Z",
          "shell.execute_reply.started": "2023-12-02T21:18:18.958802Z",
          "shell.execute_reply": "2023-12-02T21:18:18.97128Z"
        },
        "trusted": true,
        "id": "Z-HfSDF-3afR"
      },
      "execution_count": null,
      "outputs": []
    },
    {
      "cell_type": "code",
      "source": [
        "#df2.set_index('date')"
      ],
      "metadata": {
        "execution": {
          "iopub.status.busy": "2023-12-02T21:18:18.973985Z",
          "iopub.execute_input": "2023-12-02T21:18:18.974539Z",
          "iopub.status.idle": "2023-12-02T21:18:18.981413Z",
          "shell.execute_reply.started": "2023-12-02T21:18:18.97451Z",
          "shell.execute_reply": "2023-12-02T21:18:18.980637Z"
        },
        "trusted": true,
        "id": "tH969Wnd3afR"
      },
      "execution_count": null,
      "outputs": []
    },
    {
      "cell_type": "code",
      "source": [
        "df2.groupby('Dayofweek')['price'].mean().plot(kind=\"bar\", stacked=True)\n"
      ],
      "metadata": {
        "execution": {
          "iopub.status.busy": "2023-12-02T21:18:18.98252Z",
          "iopub.execute_input": "2023-12-02T21:18:18.982848Z",
          "iopub.status.idle": "2023-12-02T21:18:19.194903Z",
          "shell.execute_reply.started": "2023-12-02T21:18:18.98282Z",
          "shell.execute_reply": "2023-12-02T21:18:19.193117Z"
        },
        "trusted": true,
        "id": "vdonjjzp3afR"
      },
      "execution_count": null,
      "outputs": []
    },
    {
      "cell_type": "code",
      "source": [
        "#sumbydays = df2.groupby('Dayofweek')['price'].sum()\n",
        "sumbydays = df2.groupby('Dayofweek')['price'].mean()\n",
        "print(sumbydays)\n"
      ],
      "metadata": {
        "execution": {
          "iopub.status.busy": "2023-12-02T21:18:19.202233Z",
          "iopub.execute_input": "2023-12-02T21:18:19.202685Z",
          "iopub.status.idle": "2023-12-02T21:18:19.213922Z",
          "shell.execute_reply.started": "2023-12-02T21:18:19.202649Z",
          "shell.execute_reply": "2023-12-02T21:18:19.212003Z"
        },
        "trusted": true,
        "id": "QZqHznph3afS"
      },
      "execution_count": null,
      "outputs": []
    },
    {
      "cell_type": "code",
      "source": [
        "df2.groupby('Dayofweek').size()"
      ],
      "metadata": {
        "execution": {
          "iopub.status.busy": "2023-12-02T21:18:19.215797Z",
          "iopub.execute_input": "2023-12-02T21:18:19.216268Z",
          "iopub.status.idle": "2023-12-02T21:18:19.232857Z",
          "shell.execute_reply.started": "2023-12-02T21:18:19.21624Z",
          "shell.execute_reply": "2023-12-02T21:18:19.230473Z"
        },
        "trusted": true,
        "id": "zrgn4kFp3afS"
      },
      "execution_count": null,
      "outputs": []
    },
    {
      "cell_type": "code",
      "source": [
        "from scipy.stats import norm\n",
        "from scipy.stats import chi2_contingency\n",
        "from statsmodels.stats.proportion import proportions_ztest\n",
        "import matplotlib.pyplot as plt"
      ],
      "metadata": {
        "execution": {
          "iopub.status.busy": "2023-12-02T21:18:19.234798Z",
          "iopub.execute_input": "2023-12-02T21:18:19.235617Z",
          "iopub.status.idle": "2023-12-02T21:18:19.24518Z",
          "shell.execute_reply.started": "2023-12-02T21:18:19.23558Z",
          "shell.execute_reply": "2023-12-02T21:18:19.242545Z"
        },
        "trusted": true,
        "id": "fWOlbrlc3afS"
      },
      "execution_count": null,
      "outputs": []
    },
    {
      "cell_type": "code",
      "source": [
        "\n",
        "weekdaymean = df2.loc[df2['Dayofweek'].isin(['Friday',\n",
        "'Monday',\n",
        "'Thursday',\n",
        "'Tuesday',\n",
        "'Wednesday'])]['price'].mean()\n",
        "\n",
        "weekdaylen = len(df2.loc[df2['Dayofweek'].isin(['Friday' ,'Monday','Thursday'\n",
        "                                                ,'Tuesday','Wednesday'] )])\n",
        "\n",
        "weekdaystd = df2.loc[df2['Dayofweek'].isin(['Friday',\n",
        "'Monday',\n",
        "'Thursday',\n",
        "'Tuesday',\n",
        "'Wednesday'])]['price'].std()\n",
        "\n",
        "weekdaylen"
      ],
      "metadata": {
        "execution": {
          "iopub.status.busy": "2023-12-02T21:18:19.247615Z",
          "iopub.execute_input": "2023-12-02T21:18:19.248249Z",
          "iopub.status.idle": "2023-12-02T21:18:19.269229Z",
          "shell.execute_reply.started": "2023-12-02T21:18:19.248215Z",
          "shell.execute_reply": "2023-12-02T21:18:19.267052Z"
        },
        "trusted": true,
        "id": "BYlEmLrc3afS"
      },
      "execution_count": null,
      "outputs": []
    },
    {
      "cell_type": "code",
      "source": [
        "weekdaymean"
      ],
      "metadata": {
        "execution": {
          "iopub.status.busy": "2023-12-02T21:18:19.271115Z",
          "iopub.execute_input": "2023-12-02T21:18:19.271504Z",
          "iopub.status.idle": "2023-12-02T21:18:19.278818Z",
          "shell.execute_reply.started": "2023-12-02T21:18:19.271472Z",
          "shell.execute_reply": "2023-12-02T21:18:19.27686Z"
        },
        "trusted": true,
        "id": "0t600SR43afS"
      },
      "execution_count": null,
      "outputs": []
    },
    {
      "cell_type": "code",
      "source": [
        "#'Saturday'    'Sunday'\n",
        "weekendmean = df2.loc[df2['Dayofweek'].isin(['Saturday','Sunday'])]['price'].mean()\n",
        "weekendstd = df2.loc[df2['Dayofweek'].isin(['Saturday','Sunday'])]['price'].std()\n",
        "weekendmean/ weekendstd"
      ],
      "metadata": {
        "execution": {
          "iopub.status.busy": "2023-12-02T21:18:19.280294Z",
          "iopub.execute_input": "2023-12-02T21:18:19.280655Z",
          "iopub.status.idle": "2023-12-02T21:18:19.295023Z",
          "shell.execute_reply.started": "2023-12-02T21:18:19.280626Z",
          "shell.execute_reply": "2023-12-02T21:18:19.293831Z"
        },
        "trusted": true,
        "id": "ZE4TaFVq3afT"
      },
      "execution_count": null,
      "outputs": []
    },
    {
      "cell_type": "code",
      "source": [
        "np.sqrt(np.square(weekendstd)+np.square(weekdaystd))"
      ],
      "metadata": {
        "execution": {
          "iopub.status.busy": "2023-12-02T21:18:19.296755Z",
          "iopub.execute_input": "2023-12-02T21:18:19.297095Z",
          "iopub.status.idle": "2023-12-02T21:18:19.311065Z",
          "shell.execute_reply.started": "2023-12-02T21:18:19.297067Z",
          "shell.execute_reply": "2023-12-02T21:18:19.309225Z"
        },
        "trusted": true,
        "id": "1CDD8W8-3afT"
      },
      "execution_count": null,
      "outputs": []
    },
    {
      "cell_type": "code",
      "source": [
        "Zscore = (weekendmean - weekdaymean )/np.sqrt(np.square(weekendstd)+np.square(weekdaystd))\n",
        "Zscore"
      ],
      "metadata": {
        "execution": {
          "iopub.status.busy": "2023-12-02T21:18:19.312449Z",
          "iopub.execute_input": "2023-12-02T21:18:19.312785Z",
          "iopub.status.idle": "2023-12-02T21:18:19.328543Z",
          "shell.execute_reply.started": "2023-12-02T21:18:19.312759Z",
          "shell.execute_reply": "2023-12-02T21:18:19.326525Z"
        },
        "trusted": true,
        "id": "pycPDzV73afT"
      },
      "execution_count": null,
      "outputs": []
    },
    {
      "cell_type": "markdown",
      "source": [
        "wednesdaymean = df2.loc[df2['Dayofweek']=='Wednesday','price'].mean()\n",
        "saturdaymean = df2.loc[df2['Dayofweek']=='Saturday','price'].mean()\n",
        "\n",
        "\n",
        "two_samp_zstat,two_samp_pval = proportions_ztest(count=[saturdaymean, wednesdaymean],\n",
        "                                      nobs=[len(df2.loc[df2['Dayofweek']=='Saturday']),\n",
        "                                            \n",
        "                                           len(df2.loc[df2['Dayofweek']=='Wednesday'])\n",
        "                                           ])\n",
        "two_samp_zstat,two_samp_pval\n",
        "\n",
        "Why it did not work?"
      ],
      "metadata": {
        "execution": {
          "iopub.status.busy": "2023-11-23T19:07:42.598322Z",
          "iopub.execute_input": "2023-11-23T19:07:42.599249Z",
          "iopub.status.idle": "2023-11-23T19:07:42.617095Z",
          "shell.execute_reply.started": "2023-11-23T19:07:42.599214Z",
          "shell.execute_reply": "2023-11-23T19:07:42.616159Z"
        },
        "id": "EJZDogMr3afT"
      }
    },
    {
      "cell_type": "markdown",
      "source": [
        "> Now will try to see in bayesian approach whether is there any significant difference between days and price"
      ],
      "metadata": {
        "id": "xBaezH9r3afT"
      }
    },
    {
      "cell_type": "code",
      "source": [
        "# for sampling\n",
        "df2day = df2.loc[df2['Dayofweek'].isin(['Friday' ,'Monday','Thursday'\n",
        "                                                ,'Tuesday','Wednesday'] )]\n",
        "df2end =df2.loc[df2['Dayofweek'].isin(['Saturday','Sunday'])]"
      ],
      "metadata": {
        "execution": {
          "iopub.status.busy": "2023-12-02T21:18:19.330165Z",
          "iopub.execute_input": "2023-12-02T21:18:19.330604Z",
          "iopub.status.idle": "2023-12-02T21:18:19.340195Z",
          "shell.execute_reply.started": "2023-12-02T21:18:19.330574Z",
          "shell.execute_reply": "2023-12-02T21:18:19.339338Z"
        },
        "trusted": true,
        "id": "dvNG3Wl23afT"
      },
      "execution_count": null,
      "outputs": []
    },
    {
      "cell_type": "code",
      "source": [
        "sample_mean_weekday = df2day.sample(frac =1 , replace=True)['price'].mean()\n",
        "sample_mean_weekday"
      ],
      "metadata": {
        "execution": {
          "iopub.status.busy": "2023-12-02T21:18:19.341152Z",
          "iopub.execute_input": "2023-12-02T21:18:19.34154Z",
          "iopub.status.idle": "2023-12-02T21:18:19.362448Z",
          "shell.execute_reply.started": "2023-12-02T21:18:19.341507Z",
          "shell.execute_reply": "2023-12-02T21:18:19.36131Z"
        },
        "trusted": true,
        "id": "hbZZl5fv3afU"
      },
      "execution_count": null,
      "outputs": []
    },
    {
      "cell_type": "code",
      "source": [
        "sample_mean_weekendList =[]\n",
        "sample_mean_weekdayList =[]\n",
        "iteration = 1000\n",
        "for each in range(iteration):\n",
        "    sample_mean_weekend = df2end.sample(frac =1 , replace=True)['price'].mean()\n",
        "    sample_mean_weekendList.append(sample_mean_weekend)\n",
        "\n",
        "\n",
        "    sample_mean_weekday = df2day.sample(frac =1 , replace=True)['price'].mean()\n",
        "    sample_mean_weekdayList.append(sample_mean_weekday)\n",
        "\n",
        "sample_mean_weekenddf = pd.DataFrame(sample_mean_weekendList)\n",
        "sample_mean_weekdaydf = pd.DataFrame(sample_mean_weekdayList)"
      ],
      "metadata": {
        "execution": {
          "iopub.status.busy": "2023-12-02T21:18:19.363903Z",
          "iopub.execute_input": "2023-12-02T21:18:19.364223Z",
          "iopub.status.idle": "2023-12-02T21:18:20.920445Z",
          "shell.execute_reply.started": "2023-12-02T21:18:19.364195Z",
          "shell.execute_reply": "2023-12-02T21:18:20.918586Z"
        },
        "trusted": true,
        "id": "TT8I1ZIV3afU"
      },
      "execution_count": null,
      "outputs": []
    },
    {
      "cell_type": "code",
      "source": [
        "sample_mean_weekdaydf.head()"
      ],
      "metadata": {
        "execution": {
          "iopub.status.busy": "2023-12-02T21:18:20.92341Z",
          "iopub.execute_input": "2023-12-02T21:18:20.924006Z",
          "iopub.status.idle": "2023-12-02T21:18:20.93862Z",
          "shell.execute_reply.started": "2023-12-02T21:18:20.923956Z",
          "shell.execute_reply": "2023-12-02T21:18:20.937035Z"
        },
        "trusted": true,
        "id": "wOSQAqk73afU"
      },
      "execution_count": null,
      "outputs": []
    },
    {
      "cell_type": "code",
      "source": [
        "sample_mean_weekenddf.head()"
      ],
      "metadata": {
        "execution": {
          "iopub.status.busy": "2023-12-02T21:18:20.940345Z",
          "iopub.execute_input": "2023-12-02T21:18:20.941641Z",
          "iopub.status.idle": "2023-12-02T21:18:20.957386Z",
          "shell.execute_reply.started": "2023-12-02T21:18:20.941574Z",
          "shell.execute_reply": "2023-12-02T21:18:20.955196Z"
        },
        "trusted": true,
        "id": "xoscV4Z33afU"
      },
      "execution_count": null,
      "outputs": []
    },
    {
      "cell_type": "code",
      "source": [
        "result = pd.concat([sample_mean_weekenddf,sample_mean_weekdaydf],axis = 1)\n",
        "result.head()\n",
        "result.columns = [\"weekend\", \"weekdays\"]\n",
        "result.head()"
      ],
      "metadata": {
        "execution": {
          "iopub.status.busy": "2023-12-02T21:18:20.959805Z",
          "iopub.execute_input": "2023-12-02T21:18:20.960581Z",
          "iopub.status.idle": "2023-12-02T21:18:20.975327Z",
          "shell.execute_reply.started": "2023-12-02T21:18:20.960421Z",
          "shell.execute_reply": "2023-12-02T21:18:20.974234Z"
        },
        "trusted": true,
        "id": "K1YC6HEb3afU"
      },
      "execution_count": null,
      "outputs": []
    },
    {
      "cell_type": "code",
      "source": [
        "\n",
        "result['diff'] = (result['weekend']-result['weekdays'])/result['weekend']*100\n",
        "result['diff'].plot.kde()\n"
      ],
      "metadata": {
        "execution": {
          "iopub.status.busy": "2023-12-02T21:18:20.976652Z",
          "iopub.execute_input": "2023-12-02T21:18:20.977083Z",
          "iopub.status.idle": "2023-12-02T21:18:21.242562Z",
          "shell.execute_reply.started": "2023-12-02T21:18:20.977044Z",
          "shell.execute_reply": "2023-12-02T21:18:21.241538Z"
        },
        "trusted": true,
        "id": "hvOhLIBB3afV"
      },
      "execution_count": null,
      "outputs": []
    },
    {
      "cell_type": "code",
      "source": [
        "prob = (result['diff']>0).sum()/len(result)\n",
        "prob"
      ],
      "metadata": {
        "execution": {
          "iopub.status.busy": "2023-12-02T21:18:21.243946Z",
          "iopub.execute_input": "2023-12-02T21:18:21.244241Z",
          "iopub.status.idle": "2023-12-02T21:18:21.254344Z",
          "shell.execute_reply.started": "2023-12-02T21:18:21.244217Z",
          "shell.execute_reply": "2023-12-02T21:18:21.252123Z"
        },
        "trusted": true,
        "id": "7XY6YxJ_3afV"
      },
      "execution_count": null,
      "outputs": []
    },
    {
      "cell_type": "markdown",
      "source": [
        "# soo there is less than 5 percent chance there is no difference between weekdays or weekend. So opening a new column according to weekend or weekdays makes sense"
      ],
      "metadata": {
        "id": "qjtoghCB3afV"
      }
    },
    {
      "cell_type": "code",
      "source": [
        "df2.head(10)"
      ],
      "metadata": {
        "execution": {
          "iopub.status.busy": "2023-12-02T21:18:21.25717Z",
          "iopub.execute_input": "2023-12-02T21:18:21.257632Z",
          "iopub.status.idle": "2023-12-02T21:18:21.289978Z",
          "shell.execute_reply.started": "2023-12-02T21:18:21.2576Z",
          "shell.execute_reply": "2023-12-02T21:18:21.288996Z"
        },
        "trusted": true,
        "id": "05thgWUN3afV"
      },
      "execution_count": null,
      "outputs": []
    },
    {
      "cell_type": "code",
      "source": [
        "weekdays = ['Friday' ,'Monday','Thursday','Tuesday','Wednesday']\n",
        "weekend = ['Saturday','Sunday']\n",
        "def weekendornot(x):\n",
        "    if x in weekdays:\n",
        "        return 1\n",
        "    else:\n",
        "        return 1.5\n",
        "\n",
        "df2['weekdayorweekend']=df2['Dayofweek'].apply(weekendornot)"
      ],
      "metadata": {
        "execution": {
          "iopub.status.busy": "2023-12-02T21:18:21.291304Z",
          "iopub.execute_input": "2023-12-02T21:18:21.292828Z",
          "iopub.status.idle": "2023-12-02T21:18:21.303688Z",
          "shell.execute_reply.started": "2023-12-02T21:18:21.292742Z",
          "shell.execute_reply": "2023-12-02T21:18:21.302203Z"
        },
        "trusted": true,
        "id": "a4j4H6Y33afV"
      },
      "execution_count": null,
      "outputs": []
    },
    {
      "cell_type": "code",
      "source": [
        "df2['month'] = df2['date'].dt.month.astype(float)"
      ],
      "metadata": {
        "execution": {
          "iopub.status.busy": "2023-12-02T21:18:21.305506Z",
          "iopub.execute_input": "2023-12-02T21:18:21.306464Z",
          "iopub.status.idle": "2023-12-02T21:18:21.316711Z",
          "shell.execute_reply.started": "2023-12-02T21:18:21.306416Z",
          "shell.execute_reply": "2023-12-02T21:18:21.315437Z"
        },
        "trusted": true,
        "id": "EpBphUNP3afW"
      },
      "execution_count": null,
      "outputs": []
    },
    {
      "cell_type": "code",
      "source": [
        "\n",
        "\n",
        "stdval = df2.groupby('month')['price'].std()\n",
        "ax = df2.groupby('month')['price'].mean().plot(kind='bar', yerr=stdval, capsize=5, stacked=True, color='skyblue', alpha=0.7)\n",
        "plt.xlabel('Month')\n",
        "plt.ylabel('Values')\n",
        "plt.title('Mean and Standard Deviation Bar Chart')\n"
      ],
      "metadata": {
        "execution": {
          "iopub.status.busy": "2023-12-02T21:18:21.318646Z",
          "iopub.execute_input": "2023-12-02T21:18:21.319162Z",
          "iopub.status.idle": "2023-12-02T21:18:21.575331Z",
          "shell.execute_reply.started": "2023-12-02T21:18:21.319126Z",
          "shell.execute_reply": "2023-12-02T21:18:21.573687Z"
        },
        "trusted": true,
        "id": "mvl5g-vl3afW"
      },
      "execution_count": null,
      "outputs": []
    },
    {
      "cell_type": "code",
      "source": [
        "df2.shape"
      ],
      "metadata": {
        "execution": {
          "iopub.status.busy": "2023-12-02T21:18:21.576487Z",
          "iopub.execute_input": "2023-12-02T21:18:21.576763Z",
          "iopub.status.idle": "2023-12-02T21:18:21.583155Z",
          "shell.execute_reply.started": "2023-12-02T21:18:21.57674Z",
          "shell.execute_reply": "2023-12-02T21:18:21.582195Z"
        },
        "trusted": true,
        "id": "fRTZa8ky3afW"
      },
      "execution_count": null,
      "outputs": []
    },
    {
      "cell_type": "code",
      "source": [
        "grouped = df2.groupby('month')['price'].agg(['mean', 'std','count'])#.plot(kind = 'bar')\n",
        "grouped['scaledcount'] = grouped['count']*150\n",
        "grouped.plot(kind='bar', y=['mean', 'std', 'scaledcount'], figsize=(10, 6), rot=0)"
      ],
      "metadata": {
        "execution": {
          "iopub.status.busy": "2023-12-02T21:18:21.584323Z",
          "iopub.execute_input": "2023-12-02T21:18:21.584676Z",
          "iopub.status.idle": "2023-12-02T21:18:21.822488Z",
          "shell.execute_reply.started": "2023-12-02T21:18:21.584647Z",
          "shell.execute_reply": "2023-12-02T21:18:21.8218Z"
        },
        "trusted": true,
        "id": "YJ5WOcqq3afW"
      },
      "execution_count": null,
      "outputs": []
    },
    {
      "cell_type": "code",
      "source": [
        "counts_by_month = df2.groupby('month').count()\n",
        "counts_by_month"
      ],
      "metadata": {
        "execution": {
          "iopub.status.busy": "2023-12-02T21:18:21.823542Z",
          "iopub.execute_input": "2023-12-02T21:18:21.823966Z",
          "iopub.status.idle": "2023-12-02T21:18:21.848571Z",
          "shell.execute_reply.started": "2023-12-02T21:18:21.823942Z",
          "shell.execute_reply": "2023-12-02T21:18:21.847111Z"
        },
        "trusted": true,
        "id": "XxL_A9a03afW"
      },
      "execution_count": null,
      "outputs": []
    },
    {
      "cell_type": "code",
      "source": [
        "sumofpricesbymonth = df2.groupby('month')['price'].sum()\n",
        "sumofpricesbymonth"
      ],
      "metadata": {
        "execution": {
          "iopub.status.busy": "2023-12-02T21:18:21.85024Z",
          "iopub.execute_input": "2023-12-02T21:18:21.850646Z",
          "iopub.status.idle": "2023-12-02T21:18:21.863187Z",
          "shell.execute_reply.started": "2023-12-02T21:18:21.850608Z",
          "shell.execute_reply": "2023-12-02T21:18:21.861422Z"
        },
        "trusted": true,
        "id": "qvPxpiV93afW"
      },
      "execution_count": null,
      "outputs": []
    },
    {
      "cell_type": "markdown",
      "source": [
        "So eventhough price went a little higher sold out houses decreased significantly it can be for many different reasons\n",
        "1. price went higher so people could not buy it\n",
        "2. out of season to buy houses to instead of waiting for selling houses people increased the price to match next year price?\n",
        "3. lack of houses\n",
        "4. lack of people\n",
        "seems like more data is neccessary to make any conclusion on data so i will ignore how many house being sold in modelling part"
      ],
      "metadata": {
        "id": "3uDjt8P-3afX"
      }
    },
    {
      "cell_type": "markdown",
      "source": [
        "# now lets remove encoded columns and encode other categorical columns!!!"
      ],
      "metadata": {
        "id": "-brw3YA03afX"
      }
    },
    {
      "cell_type": "code",
      "source": [
        "columns_to_remove = ['street', 'city', 'statezip', 'statezip_names', 'Dayofweek']\n",
        "df2 = df2.drop(columns=columns_to_remove)"
      ],
      "metadata": {
        "execution": {
          "iopub.status.busy": "2023-12-02T21:18:21.867913Z",
          "iopub.execute_input": "2023-12-02T21:18:21.8683Z",
          "iopub.status.idle": "2023-12-02T21:18:21.875026Z",
          "shell.execute_reply.started": "2023-12-02T21:18:21.868265Z",
          "shell.execute_reply": "2023-12-02T21:18:21.87393Z"
        },
        "trusted": true,
        "id": "GzjDz-xg3afX"
      },
      "execution_count": null,
      "outputs": []
    },
    {
      "cell_type": "code",
      "source": [
        "df2"
      ],
      "metadata": {
        "execution": {
          "iopub.status.busy": "2023-12-02T21:18:21.876291Z",
          "iopub.execute_input": "2023-12-02T21:18:21.876726Z",
          "iopub.status.idle": "2023-12-02T21:18:21.916187Z",
          "shell.execute_reply.started": "2023-12-02T21:18:21.876692Z",
          "shell.execute_reply": "2023-12-02T21:18:21.913979Z"
        },
        "trusted": true,
        "id": "3QD_q41N3afa"
      },
      "execution_count": null,
      "outputs": []
    },
    {
      "cell_type": "code",
      "source": [
        "df2['waterfront'].value_counts()"
      ],
      "metadata": {
        "execution": {
          "iopub.status.busy": "2023-12-02T21:18:21.91877Z",
          "iopub.execute_input": "2023-12-02T21:18:21.919495Z",
          "iopub.status.idle": "2023-12-02T21:18:21.932513Z",
          "shell.execute_reply.started": "2023-12-02T21:18:21.919459Z",
          "shell.execute_reply": "2023-12-02T21:18:21.930904Z"
        },
        "trusted": true,
        "id": "q8ZI1V223afb"
      },
      "execution_count": null,
      "outputs": []
    },
    {
      "cell_type": "markdown",
      "source": [
        "# Waterfront is okay"
      ],
      "metadata": {
        "id": "shLcmrhL3afb"
      }
    },
    {
      "cell_type": "markdown",
      "source": [
        "# Time to engage with view"
      ],
      "metadata": {
        "id": "i6ObuNsC3afb"
      }
    },
    {
      "cell_type": "code",
      "source": [
        "df2['view'].astype('str')"
      ],
      "metadata": {
        "execution": {
          "iopub.status.busy": "2023-12-02T21:18:21.933899Z",
          "iopub.execute_input": "2023-12-02T21:18:21.934267Z",
          "iopub.status.idle": "2023-12-02T21:18:21.950961Z",
          "shell.execute_reply.started": "2023-12-02T21:18:21.934233Z",
          "shell.execute_reply": "2023-12-02T21:18:21.949562Z"
        },
        "trusted": true,
        "id": "Y5WiQTUR3afb"
      },
      "execution_count": null,
      "outputs": []
    },
    {
      "cell_type": "code",
      "source": [
        "df2['view'].value_counts()"
      ],
      "metadata": {
        "execution": {
          "iopub.status.busy": "2023-12-02T21:18:21.952739Z",
          "iopub.execute_input": "2023-12-02T21:18:21.954141Z",
          "iopub.status.idle": "2023-12-02T21:18:21.965109Z",
          "shell.execute_reply.started": "2023-12-02T21:18:21.954092Z",
          "shell.execute_reply": "2023-12-02T21:18:21.964147Z"
        },
        "trusted": true,
        "id": "QKQIVPpY3afb"
      },
      "execution_count": null,
      "outputs": []
    },
    {
      "cell_type": "code",
      "source": [
        "my_dict = {}\n",
        "variable_to_encode = df2['view'].unique().tolist()\n",
        "\n",
        "# Assign values in a for loop\n",
        "my_dict = {key: [] for key in variable_to_encode}\n",
        "for key in variable_to_encode:\n",
        "    for i in range(len(variable_to_encode)):  # For example, adding three items to each list\n",
        "        my_dict[key].append(f\"{key}\")\n",
        "\n",
        "# Display the resulting dictionary\n",
        "print(my_dict)"
      ],
      "metadata": {
        "execution": {
          "iopub.status.busy": "2023-12-02T21:18:21.966057Z",
          "iopub.execute_input": "2023-12-02T21:18:21.966333Z",
          "iopub.status.idle": "2023-12-02T21:18:21.975247Z",
          "shell.execute_reply.started": "2023-12-02T21:18:21.966307Z",
          "shell.execute_reply": "2023-12-02T21:18:21.97444Z"
        },
        "trusted": true,
        "id": "7ICehZ6I3afb"
      },
      "execution_count": null,
      "outputs": []
    },
    {
      "cell_type": "code",
      "source": [
        "#variable_to_encode = df2['view'].unique().tolist()\n",
        "#my_dict = {key: [] for key in variable_to_encode}\n",
        "#all_encoded_val = pd.Series(all_encoded_values).unique().tolist()\n",
        "#\n",
        "#for key in my_dict.items:\n",
        "#    for i in range(len(encoded_values_fold)):  # For example, adding three items to each list\n",
        "#        my_dict[key].append(f\"{key}\")\n",
        "#a = pd.Series(all_encoded_values).unique().tolist()\n",
        "#\n",
        "#\n",
        "#\n",
        "## Use a list comprehension to create a list with 5 elements, each containing 5 elements\n",
        "#result_list = [a[i:i+len(variable_to_encode)] for i in range(0, len(a), len(variable_to_encode))]\n",
        "#\n",
        "## Display the resulting list\n",
        "#print(result_list)#"
      ],
      "metadata": {
        "execution": {
          "iopub.status.busy": "2023-12-02T21:18:21.978232Z",
          "iopub.execute_input": "2023-12-02T21:18:21.978865Z",
          "iopub.status.idle": "2023-12-02T21:18:21.987943Z",
          "shell.execute_reply.started": "2023-12-02T21:18:21.978827Z",
          "shell.execute_reply": "2023-12-02T21:18:21.986949Z"
        },
        "trusted": true,
        "id": "JUieHfuK3afc"
      },
      "execution_count": null,
      "outputs": []
    },
    {
      "cell_type": "code",
      "source": [
        "variable_to_encode = df2['view'].unique().tolist()\n",
        "type(len(variable_to_encode))"
      ],
      "metadata": {
        "execution": {
          "iopub.status.busy": "2023-12-02T21:18:21.989029Z",
          "iopub.execute_input": "2023-12-02T21:18:21.989491Z",
          "iopub.status.idle": "2023-12-02T21:18:22.010918Z",
          "shell.execute_reply.started": "2023-12-02T21:18:21.98945Z",
          "shell.execute_reply": "2023-12-02T21:18:22.008728Z"
        },
        "trusted": true,
        "id": "SxfmVyWl3afc"
      },
      "execution_count": null,
      "outputs": []
    },
    {
      "cell_type": "markdown",
      "source": [
        "# ENCODING BLOCK"
      ],
      "metadata": {
        "id": "N3fFawTV3afc"
      }
    },
    {
      "cell_type": "code",
      "source": [
        "import random\n",
        "from sklearn.model_selection import KFold\n",
        "kf = KFold(n_splits=5, random_state=123, shuffle=True)\n",
        "\n",
        "variable_to_encode = df2['view'].unique().tolist()                            ### view will be changed\n",
        "\n",
        "# Define your mean_target_encoding function\n",
        "def mean_target_encoding(train, test, target, categorical, alpha=5):\n",
        "    mean_target = train.groupby(categorical)[target].mean()\n",
        "\n",
        "    train[categorical + '_mean_encoded'] = train[categorical].map(mean_target)\n",
        "    test[categorical + '_mean_encoded'] = test[categorical].map(mean_target)\n",
        "\n",
        "    global_mean = train[target].mean()\n",
        "    train.loc[:, categorical + '_mean_encoded'] = (train[categorical + '_mean_encoded'] * train[categorical].count() + global_mean * alpha) / (train[categorical].count() + alpha)\n",
        "    test.loc[:, categorical + '_mean_encoded'] = (test[categorical + '_mean_encoded'] * test[categorical].count() + global_mean * alpha) / (test[categorical].count() + alpha)\n",
        "\n",
        "    return train, test\n",
        "\n",
        "\n",
        "all_encoded_values = []\n",
        "# For each fold split\n",
        "for train_index, test_index in kf.split(df2):\n",
        "    cv_train, cv_test = df2.iloc[train_index].copy(), df2.iloc[test_index].copy()\n",
        "\n",
        "    # Assuming 'view' is the categorical column you are encoding\n",
        "    cv_train, cv_test = mean_target_encoding(train=cv_train,\n",
        "                                             test=cv_test,\n",
        "                                             target='price',\n",
        "                                             categorical='view',                             ### view will be changed\n",
        "                                             alpha=5)\n",
        "\n",
        "    # Collect the mean encoded values for the test set\n",
        "    encoded_values_fold = cv_train['view_mean_encoded'].unique()                           ### view will be changed\n",
        "\n",
        "\n",
        "\n",
        "\n",
        "    # Add the values to the container\n",
        "    all_encoded_values.extend(encoded_values_fold)\n",
        "\n",
        "# Display the unique values collected\n",
        "print(\"Unique Encoded Values:\", pd.Series(all_encoded_values).unique())\n",
        "Encoded_values_list = pd.Series(all_encoded_values).unique().tolist()\n",
        "resulted_list = [Encoded_values_list[i:i+len(variable_to_encode)] for i in range(0, len(Encoded_values_list), len(variable_to_encode))]\n",
        "\n",
        "result_dict = {key: [values[i] for values in resulted_list] for i, key in enumerate(variable_to_encode)}\n",
        "\n",
        "cv_train['view_mean_encoded'] = cv_train['view'].apply(lambda x:random.choice(result_dict[x]))                 ### view will be changed also that result dictionary for test data can be created\n",
        "cv_test['view_mean_encoded'] = cv_test['view'].apply(lambda x:random.choice(result_dict[x]))"
      ],
      "metadata": {
        "execution": {
          "iopub.status.busy": "2023-12-02T21:18:22.022255Z",
          "iopub.execute_input": "2023-12-02T21:18:22.023737Z",
          "iopub.status.idle": "2023-12-02T21:18:22.069878Z",
          "shell.execute_reply.started": "2023-12-02T21:18:22.023679Z",
          "shell.execute_reply": "2023-12-02T21:18:22.067814Z"
        },
        "trusted": true,
        "id": "xPh2dRqc3afc"
      },
      "execution_count": null,
      "outputs": []
    },
    {
      "cell_type": "code",
      "source": [
        "df_combined = pd.concat([cv_train, cv_test])\n",
        "df_combined"
      ],
      "metadata": {
        "execution": {
          "iopub.status.busy": "2023-12-02T21:18:22.071874Z",
          "iopub.execute_input": "2023-12-02T21:18:22.072295Z",
          "iopub.status.idle": "2023-12-02T21:18:22.10776Z",
          "shell.execute_reply.started": "2023-12-02T21:18:22.072262Z",
          "shell.execute_reply": "2023-12-02T21:18:22.106052Z"
        },
        "trusted": true,
        "id": "tyjOacPf3afc"
      },
      "execution_count": null,
      "outputs": []
    },
    {
      "cell_type": "code",
      "source": [
        "kf = KFold(n_splits=5, random_state=123, shuffle=True)\n",
        "\n",
        "variable_to_encode = df2['condition'].unique().tolist()                            ### view will be changed\n",
        "\n",
        "# Define your mean_target_encoding function\n",
        "def mean_target_encoding(train, test, target, categorical, alpha=5):\n",
        "    mean_target = train.groupby(categorical)[target].mean()\n",
        "\n",
        "    train[categorical + '_mean_encoded'] = train[categorical].map(mean_target)\n",
        "    test[categorical + '_mean_encoded'] = test[categorical].map(mean_target)\n",
        "\n",
        "    global_mean = train[target].mean()\n",
        "    train.loc[:, categorical + '_mean_encoded'] = (train[categorical + '_mean_encoded'] * train[categorical].count() + global_mean * alpha) / (train[categorical].count() + alpha)\n",
        "    test.loc[:, categorical + '_mean_encoded'] = (test[categorical + '_mean_encoded'] * test[categorical].count() + global_mean * alpha) / (test[categorical].count() + alpha)\n",
        "\n",
        "    return train, test\n",
        "\n",
        "\n",
        "all_encoded_values = []\n",
        "# For each fold split\n",
        "for train_index2, test_index2 in kf.split(df_combined):\n",
        "    cv_train1, cv_test1 = df2.iloc[train_index].copy(), df2.iloc[test_index].copy()\n",
        "\n",
        "\n",
        "    cv_train1, cv_test1 = mean_target_encoding(train=cv_train1,\n",
        "                                             test=cv_test1,\n",
        "                                             target='price',\n",
        "                                             categorical='condition',               ### view will be changed\n",
        "                                             alpha=5)\n",
        "\n",
        "    # Collect the mean encoded values for the test set\n",
        "    encoded_values_fold = cv_train1['condition_mean_encoded'].unique()                    ### view will be changed\n",
        "\n",
        "\n",
        "\n",
        "\n",
        "    # Add the values to the container\n",
        "    all_encoded_values.extend(encoded_values_fold)\n",
        "\n",
        "# Display the unique values collected\n",
        "print(\"Unique Encoded Values:\", pd.Series(all_encoded_values).unique())\n",
        "Encoded_values_list = pd.Series(all_encoded_values).unique().tolist()\n",
        "resulted_list = [Encoded_values_list[i:i+len(variable_to_encode)] for i in range(0, len(Encoded_values_list), len(variable_to_encode))]\n",
        "\n",
        "result_dict1 = {key: [values[i] for values in resulted_list] for i, key in enumerate(variable_to_encode)}\n",
        "\n",
        "cv_train1['condition_mean_encoded'] = cv_train1['condition'].apply(lambda x:random.choice(result_dict1[x]))                 ### view will be changed also that result dictionary for test data can be created\n",
        "cv_test1['condition_mean_encoded'] = cv_test1['condition'].apply(lambda x:random.choice(result_dict1[x]))"
      ],
      "metadata": {
        "execution": {
          "iopub.status.busy": "2023-12-02T21:18:22.109261Z",
          "iopub.execute_input": "2023-12-02T21:18:22.10966Z",
          "iopub.status.idle": "2023-12-02T21:18:22.158233Z",
          "shell.execute_reply.started": "2023-12-02T21:18:22.109627Z",
          "shell.execute_reply": "2023-12-02T21:18:22.157228Z"
        },
        "trusted": true,
        "id": "C8PsZmrh3afd"
      },
      "execution_count": null,
      "outputs": []
    },
    {
      "cell_type": "code",
      "source": [
        "df_combined"
      ],
      "metadata": {
        "execution": {
          "iopub.status.busy": "2023-12-02T21:18:22.160448Z",
          "iopub.execute_input": "2023-12-02T21:18:22.161001Z",
          "iopub.status.idle": "2023-12-02T21:18:22.194271Z",
          "shell.execute_reply.started": "2023-12-02T21:18:22.160968Z",
          "shell.execute_reply": "2023-12-02T21:18:22.192004Z"
        },
        "trusted": true,
        "id": "PruACEom3afd"
      },
      "execution_count": null,
      "outputs": []
    },
    {
      "cell_type": "code",
      "source": [
        "df_combined2 = pd.concat([cv_train1, cv_test1])"
      ],
      "metadata": {
        "execution": {
          "iopub.status.busy": "2023-12-02T21:18:22.196627Z",
          "iopub.execute_input": "2023-12-02T21:18:22.197546Z",
          "iopub.status.idle": "2023-12-02T21:18:22.204158Z",
          "shell.execute_reply.started": "2023-12-02T21:18:22.197506Z",
          "shell.execute_reply": "2023-12-02T21:18:22.203443Z"
        },
        "trusted": true,
        "id": "-Jei1_6s3afd"
      },
      "execution_count": null,
      "outputs": []
    },
    {
      "cell_type": "code",
      "source": [
        "df_combined2"
      ],
      "metadata": {
        "execution": {
          "iopub.status.busy": "2023-12-02T21:18:22.20595Z",
          "iopub.execute_input": "2023-12-02T21:18:22.206235Z",
          "iopub.status.idle": "2023-12-02T21:18:22.245102Z",
          "shell.execute_reply.started": "2023-12-02T21:18:22.206211Z",
          "shell.execute_reply": "2023-12-02T21:18:22.244195Z"
        },
        "trusted": true,
        "id": "536AUfO43afd"
      },
      "execution_count": null,
      "outputs": []
    },
    {
      "cell_type": "code",
      "source": [
        "df_combined2['view_mean_encoded']=df_combined['view_mean_encoded']"
      ],
      "metadata": {
        "execution": {
          "iopub.status.busy": "2023-12-02T21:18:22.246684Z",
          "iopub.execute_input": "2023-12-02T21:18:22.246958Z",
          "iopub.status.idle": "2023-12-02T21:18:22.251678Z",
          "shell.execute_reply.started": "2023-12-02T21:18:22.246935Z",
          "shell.execute_reply": "2023-12-02T21:18:22.250866Z"
        },
        "trusted": true,
        "id": "QScSmPdX3afd"
      },
      "execution_count": null,
      "outputs": []
    },
    {
      "cell_type": "code",
      "source": [
        "df_combined2.dtypes"
      ],
      "metadata": {
        "execution": {
          "iopub.status.busy": "2023-12-02T21:18:22.253018Z",
          "iopub.execute_input": "2023-12-02T21:18:22.253571Z",
          "iopub.status.idle": "2023-12-02T21:18:22.27153Z",
          "shell.execute_reply.started": "2023-12-02T21:18:22.253542Z",
          "shell.execute_reply": "2023-12-02T21:18:22.270535Z"
        },
        "trusted": true,
        "id": "5pjNnA5O3afe"
      },
      "execution_count": null,
      "outputs": []
    },
    {
      "cell_type": "markdown",
      "source": [
        "'maybe in the future I will encode month too'"
      ],
      "metadata": {
        "id": "O8RCKFF63afe"
      }
    },
    {
      "cell_type": "markdown",
      "source": [
        "# below is testing place for big code block"
      ],
      "metadata": {
        "id": "BBbnBYCp3afe"
      }
    },
    {
      "cell_type": "code",
      "source": [
        "resulted_list\n",
        "result_dict = {key: [values[i] for values in resulted_list] for i, key in enumerate(variable_to_encode)}\n",
        "result_dict"
      ],
      "metadata": {
        "execution": {
          "iopub.status.busy": "2023-12-02T21:18:22.273002Z",
          "iopub.execute_input": "2023-12-02T21:18:22.273422Z",
          "iopub.status.idle": "2023-12-02T21:18:22.285582Z",
          "shell.execute_reply.started": "2023-12-02T21:18:22.273387Z",
          "shell.execute_reply": "2023-12-02T21:18:22.283893Z"
        },
        "trusted": true,
        "id": "Hgi6mW9I3afe"
      },
      "execution_count": null,
      "outputs": []
    },
    {
      "cell_type": "code",
      "source": [
        "#import random\n",
        "#cv_train['view_mean_encoded'] = cv_train['view'].apply(lambda x:random.choice(result_dict[x]))"
      ],
      "metadata": {
        "execution": {
          "iopub.status.busy": "2023-12-02T21:18:22.288334Z",
          "iopub.execute_input": "2023-12-02T21:18:22.290432Z",
          "iopub.status.idle": "2023-12-02T21:18:22.295458Z",
          "shell.execute_reply.started": "2023-12-02T21:18:22.290372Z",
          "shell.execute_reply": "2023-12-02T21:18:22.293615Z"
        },
        "trusted": true,
        "id": "jeK7Yvw13afe"
      },
      "execution_count": null,
      "outputs": []
    },
    {
      "cell_type": "markdown",
      "source": [
        "exercise to divide list into sublists"
      ],
      "metadata": {
        "id": "qX9NUYil3aff"
      }
    },
    {
      "cell_type": "code",
      "source": [
        "cv_train.head(15)"
      ],
      "metadata": {
        "execution": {
          "iopub.status.busy": "2023-12-02T21:18:22.296786Z",
          "iopub.execute_input": "2023-12-02T21:18:22.29856Z",
          "iopub.status.idle": "2023-12-02T21:18:22.337082Z",
          "shell.execute_reply.started": "2023-12-02T21:18:22.298491Z",
          "shell.execute_reply": "2023-12-02T21:18:22.335551Z"
        },
        "trusted": true,
        "id": "mcoi4RCS3aff"
      },
      "execution_count": null,
      "outputs": []
    },
    {
      "cell_type": "code",
      "source": [
        "#a = pd.Series(all_encoded_values).unique().tolist()\n",
        "\n",
        "\n",
        "\n",
        "# Use a list comprehension to create a list with 5 elements, each containing 5 elements\n",
        "#result_list = [a[i:i+5] for i in range(0, len(a), 5)]\n",
        "\n",
        "# Display the resulting list\n",
        "#print(result_list)"
      ],
      "metadata": {
        "execution": {
          "iopub.status.busy": "2023-12-02T21:18:22.339073Z",
          "iopub.execute_input": "2023-12-02T21:18:22.339521Z",
          "iopub.status.idle": "2023-12-02T21:18:22.345145Z",
          "shell.execute_reply.started": "2023-12-02T21:18:22.33949Z",
          "shell.execute_reply": "2023-12-02T21:18:22.343668Z"
        },
        "trusted": true,
        "id": "yg6CeC_W3aff"
      },
      "execution_count": null,
      "outputs": []
    },
    {
      "cell_type": "code",
      "source": [
        "\n",
        "df02 = pd.DataFrame({'A': np.arange(11, 21), 'B': list('k0k0k0k0kk')})\n",
        "\n",
        "\n",
        "df02"
      ],
      "metadata": {
        "execution": {
          "iopub.status.busy": "2023-12-02T21:18:22.347311Z",
          "iopub.execute_input": "2023-12-02T21:18:22.347783Z",
          "iopub.status.idle": "2023-12-02T21:18:22.36494Z",
          "shell.execute_reply.started": "2023-12-02T21:18:22.347746Z",
          "shell.execute_reply": "2023-12-02T21:18:22.363507Z"
        },
        "trusted": true,
        "id": "fRfasLPE3aff"
      },
      "execution_count": null,
      "outputs": []
    },
    {
      "cell_type": "code",
      "source": [
        "from sklearn.model_selection import KFold\n",
        "kf = KFold(n_splits=5,  shuffle=True)\n",
        "for train_index, test_index in kf.split(df02):\n",
        "    print(train_index, test_index)\n",
        "    print(df02.shape, 'this is cv shape')\n"
      ],
      "metadata": {
        "execution": {
          "iopub.status.busy": "2023-12-02T21:18:22.366616Z",
          "iopub.execute_input": "2023-12-02T21:18:22.366964Z",
          "iopub.status.idle": "2023-12-02T21:18:22.37744Z",
          "shell.execute_reply.started": "2023-12-02T21:18:22.366937Z",
          "shell.execute_reply": "2023-12-02T21:18:22.37516Z"
        },
        "trusted": true,
        "id": "wvLY-T-s3aff"
      },
      "execution_count": null,
      "outputs": []
    },
    {
      "cell_type": "markdown",
      "source": [
        "# Testing codes are over here"
      ],
      "metadata": {
        "id": "3K0N273b3afg"
      }
    },
    {
      "cell_type": "code",
      "source": [
        "df_combined2['street_labels']"
      ],
      "metadata": {
        "execution": {
          "iopub.status.busy": "2023-12-02T21:18:22.380159Z",
          "iopub.execute_input": "2023-12-02T21:18:22.380578Z",
          "iopub.status.idle": "2023-12-02T21:18:22.39005Z",
          "shell.execute_reply.started": "2023-12-02T21:18:22.380547Z",
          "shell.execute_reply": "2023-12-02T21:18:22.388302Z"
        },
        "trusted": true,
        "id": "d4jzALhX3afg"
      },
      "execution_count": null,
      "outputs": []
    },
    {
      "cell_type": "markdown",
      "source": [
        "# I will divide data into train test stratified"
      ],
      "metadata": {
        "id": "kF0PjOYD3afg"
      }
    },
    {
      "cell_type": "code",
      "source": [
        "from sklearn.model_selection import train_test_split\n",
        "X = df_combined2.drop(columns=['price','date'])\n",
        "y = df_combined2['price']\n",
        "stratifying= df_combined2['street_labels']\n",
        "# Assuming X and y are your features and target variable\n",
        "\n",
        "X_train, X_test, y_train, y_test = train_test_split(X, y, test_size=0.2, random_state=42, stratify=stratifying)"
      ],
      "metadata": {
        "execution": {
          "iopub.status.busy": "2023-12-02T21:18:22.392799Z",
          "iopub.execute_input": "2023-12-02T21:18:22.393991Z",
          "iopub.status.idle": "2023-12-02T21:18:22.417054Z",
          "shell.execute_reply.started": "2023-12-02T21:18:22.393949Z",
          "shell.execute_reply": "2023-12-02T21:18:22.415821Z"
        },
        "trusted": true,
        "id": "sVohz3yy3afg"
      },
      "execution_count": null,
      "outputs": []
    },
    {
      "cell_type": "code",
      "source": [
        "from sklearn.preprocessing import MinMaxScaler\n",
        "\n",
        "# Assuming you have your training and testing data\n",
        "# X_train, X_test, y_train, y_test\n",
        "\n",
        "# Step 2: Create an instance of MinMaxScaler\n",
        "scaler = MinMaxScaler()\n",
        "\n",
        "# Step 3: Fit and transform the training data\n",
        "X_train_scaled = scaler.fit_transform(X_train)\n",
        "\n",
        "# Step 4: Transform the testing data using the same scaler\n",
        "X_test_scaled = scaler.transform(X_test)"
      ],
      "metadata": {
        "execution": {
          "iopub.status.busy": "2023-12-02T21:18:22.418623Z",
          "iopub.execute_input": "2023-12-02T21:18:22.418977Z",
          "iopub.status.idle": "2023-12-02T21:18:22.4345Z",
          "shell.execute_reply.started": "2023-12-02T21:18:22.418945Z",
          "shell.execute_reply": "2023-12-02T21:18:22.433478Z"
        },
        "trusted": true,
        "id": "ghD8-Yju3afg"
      },
      "execution_count": null,
      "outputs": []
    },
    {
      "cell_type": "code",
      "source": [
        "X_train['street_labels'].value_counts()/len(X_train)"
      ],
      "metadata": {
        "execution": {
          "iopub.status.busy": "2023-12-02T21:18:22.435707Z",
          "iopub.execute_input": "2023-12-02T21:18:22.436581Z",
          "iopub.status.idle": "2023-12-02T21:18:22.446263Z",
          "shell.execute_reply.started": "2023-12-02T21:18:22.436539Z",
          "shell.execute_reply": "2023-12-02T21:18:22.444475Z"
        },
        "trusted": true,
        "id": "w4uW2gW43afg"
      },
      "execution_count": null,
      "outputs": []
    },
    {
      "cell_type": "code",
      "source": [
        "X_test['street_labels'].value_counts()/len(X_test)"
      ],
      "metadata": {
        "execution": {
          "iopub.status.busy": "2023-12-02T21:18:22.447714Z",
          "iopub.execute_input": "2023-12-02T21:18:22.448585Z",
          "iopub.status.idle": "2023-12-02T21:18:22.458934Z",
          "shell.execute_reply.started": "2023-12-02T21:18:22.448543Z",
          "shell.execute_reply": "2023-12-02T21:18:22.458167Z"
        },
        "trusted": true,
        "id": "ywOvCIRB3afh"
      },
      "execution_count": null,
      "outputs": []
    },
    {
      "cell_type": "code",
      "source": [
        "X_test.isna().sum()"
      ],
      "metadata": {
        "execution": {
          "iopub.status.busy": "2023-12-02T21:18:22.460479Z",
          "iopub.execute_input": "2023-12-02T21:18:22.461004Z",
          "iopub.status.idle": "2023-12-02T21:18:22.471406Z",
          "shell.execute_reply.started": "2023-12-02T21:18:22.460969Z",
          "shell.execute_reply": "2023-12-02T21:18:22.46985Z"
        },
        "trusted": true,
        "id": "oIYLhhP13afh"
      },
      "execution_count": null,
      "outputs": []
    },
    {
      "cell_type": "code",
      "source": [
        "X_train_nadropped = X_train.dropna()"
      ],
      "metadata": {
        "execution": {
          "iopub.status.busy": "2023-12-02T21:18:22.47284Z",
          "iopub.execute_input": "2023-12-02T21:18:22.473373Z",
          "iopub.status.idle": "2023-12-02T21:18:22.480937Z",
          "shell.execute_reply.started": "2023-12-02T21:18:22.473326Z",
          "shell.execute_reply": "2023-12-02T21:18:22.479735Z"
        },
        "trusted": true,
        "id": "V53IHbcv3afh"
      },
      "execution_count": null,
      "outputs": []
    },
    {
      "cell_type": "code",
      "source": [
        "X_test_nadropped = X_test.dropna()"
      ],
      "metadata": {
        "execution": {
          "iopub.status.busy": "2023-12-02T21:18:22.482251Z",
          "iopub.execute_input": "2023-12-02T21:18:22.482563Z",
          "iopub.status.idle": "2023-12-02T21:18:22.494721Z",
          "shell.execute_reply.started": "2023-12-02T21:18:22.482536Z",
          "shell.execute_reply": "2023-12-02T21:18:22.493438Z"
        },
        "trusted": true,
        "id": "BYaGR1Uj3afh"
      },
      "execution_count": null,
      "outputs": []
    },
    {
      "cell_type": "code",
      "source": [
        "dropped_indicestrain = X_train.index.difference(X_train_nadropped.index)"
      ],
      "metadata": {
        "execution": {
          "iopub.status.busy": "2023-12-02T21:18:22.496167Z",
          "iopub.execute_input": "2023-12-02T21:18:22.496716Z",
          "iopub.status.idle": "2023-12-02T21:18:22.506166Z",
          "shell.execute_reply.started": "2023-12-02T21:18:22.496681Z",
          "shell.execute_reply": "2023-12-02T21:18:22.505138Z"
        },
        "trusted": true,
        "id": "IvC1zID_3afh"
      },
      "execution_count": null,
      "outputs": []
    },
    {
      "cell_type": "code",
      "source": [
        "dropped_indicestest = X_test.index.difference(X_test_nadropped.index)"
      ],
      "metadata": {
        "execution": {
          "iopub.status.busy": "2023-12-02T21:18:22.507547Z",
          "iopub.execute_input": "2023-12-02T21:18:22.507862Z",
          "iopub.status.idle": "2023-12-02T21:18:22.51919Z",
          "shell.execute_reply.started": "2023-12-02T21:18:22.507834Z",
          "shell.execute_reply": "2023-12-02T21:18:22.518405Z"
        },
        "trusted": true,
        "id": "n0uDRMBg3afh"
      },
      "execution_count": null,
      "outputs": []
    },
    {
      "cell_type": "code",
      "source": [
        "dropped_indicestrain"
      ],
      "metadata": {
        "execution": {
          "iopub.status.busy": "2023-12-02T21:18:22.521285Z",
          "iopub.execute_input": "2023-12-02T21:18:22.521893Z",
          "iopub.status.idle": "2023-12-02T21:18:22.535974Z",
          "shell.execute_reply.started": "2023-12-02T21:18:22.521849Z",
          "shell.execute_reply": "2023-12-02T21:18:22.534646Z"
        },
        "trusted": true,
        "id": "_2TRwO1B3afi"
      },
      "execution_count": null,
      "outputs": []
    },
    {
      "cell_type": "code",
      "source": [
        "dropped_indicestest"
      ],
      "metadata": {
        "execution": {
          "iopub.status.busy": "2023-12-02T21:18:22.537634Z",
          "iopub.execute_input": "2023-12-02T21:18:22.538203Z",
          "iopub.status.idle": "2023-12-02T21:18:22.548117Z",
          "shell.execute_reply.started": "2023-12-02T21:18:22.538164Z",
          "shell.execute_reply": "2023-12-02T21:18:22.547329Z"
        },
        "trusted": true,
        "id": "xZVTdz5E3afi"
      },
      "execution_count": null,
      "outputs": []
    },
    {
      "cell_type": "code",
      "source": [
        "X_train_nadropped.isna().sum()"
      ],
      "metadata": {
        "execution": {
          "iopub.status.busy": "2023-12-02T21:18:22.549616Z",
          "iopub.execute_input": "2023-12-02T21:18:22.550196Z",
          "iopub.status.idle": "2023-12-02T21:18:22.564023Z",
          "shell.execute_reply.started": "2023-12-02T21:18:22.550162Z",
          "shell.execute_reply": "2023-12-02T21:18:22.563048Z"
        },
        "trusted": true,
        "id": "cn8JZYdQ3afi"
      },
      "execution_count": null,
      "outputs": []
    },
    {
      "cell_type": "markdown",
      "source": [
        "# Modelling"
      ],
      "metadata": {
        "id": "1nKMyig73afi"
      }
    },
    {
      "cell_type": "markdown",
      "source": [
        "random forrest"
      ],
      "metadata": {
        "id": "uOuss_P23afi"
      }
    },
    {
      "cell_type": "code",
      "source": [
        "# need to remove same indexes that I removed from train and test data since random fucking forrest does not accept 'nan'"
      ],
      "metadata": {
        "execution": {
          "iopub.status.busy": "2023-12-02T21:18:22.565844Z",
          "iopub.execute_input": "2023-12-02T21:18:22.567241Z",
          "iopub.status.idle": "2023-12-02T21:18:22.575988Z",
          "shell.execute_reply.started": "2023-12-02T21:18:22.567201Z",
          "shell.execute_reply": "2023-12-02T21:18:22.574927Z"
        },
        "trusted": true,
        "id": "GCsEiskP3afi"
      },
      "execution_count": null,
      "outputs": []
    },
    {
      "cell_type": "code",
      "source": [
        "y_train_dropped = y_train.drop(dropped_indicestrain)\n",
        "y_test_dropped = y_test.drop(dropped_indicestest)"
      ],
      "metadata": {
        "execution": {
          "iopub.status.busy": "2023-12-02T21:18:22.578236Z",
          "iopub.execute_input": "2023-12-02T21:18:22.578752Z",
          "iopub.status.idle": "2023-12-02T21:18:22.591873Z",
          "shell.execute_reply.started": "2023-12-02T21:18:22.578712Z",
          "shell.execute_reply": "2023-12-02T21:18:22.590294Z"
        },
        "trusted": true,
        "id": "ulADS8Q63afj"
      },
      "execution_count": null,
      "outputs": []
    },
    {
      "cell_type": "code",
      "source": [
        "from sklearn.ensemble import RandomForestRegressor\n",
        "rf = RandomForestRegressor(\n",
        "    bootstrap=True,\n",
        "    max_depth=None,\n",
        "    max_features='auto',\n",
        "    min_samples_leaf=4,\n",
        "    min_samples_split=2,\n",
        "    n_estimators=200,\n",
        "    random_state=42\n",
        ")\n",
        "rf.fit(X=X_train_nadropped, y=y_train_dropped)\n",
        "#from sklearn.model_selection import GridSearchCV\n",
        "#\n",
        "##X_train, X_test, y_train, y_test\n",
        "## Example grid of hyperparameters for grid search\n",
        "#param_grid = {\n",
        "#    'n_estimators': [50, 100, 200],\n",
        "#    'max_depth': [None, 10, 20],\n",
        "#    'min_samples_split': [2, 5, 10],\n",
        "#    'min_samples_leaf': [1, 2, 4],\n",
        "#    'max_features': ['auto', 'sqrt', 'log2'],\n",
        "#    'bootstrap': [True, False],\n",
        "#    'random_state': [42],\n",
        "#}\n",
        "#\n",
        "## Create a Random Forest Regressor\n",
        "#rf = RandomForestRegressor()\n",
        "#\n",
        "## Use GridSearchCV to find the optimal hyperparameters\n",
        "#grid_search = GridSearchCV(estimator=rf, param_grid=param_grid, cv=5, scoring='neg_mean_squared_error')\n",
        "#grid_search.fit(X_train_nadropped, y_train_dropped)\n",
        "#\n",
        "## Print the best hyperparameters\n",
        "#best_params = grid_search.best_params_\n",
        "#print(\"Best Hyperparameters:\", best_params)\n",
        "#Best Hyperparameters: {'bootstrap': True, 'max_depth': None, 'max_features': 'auto', 'min_samples_leaf': 4, 'min_samples_split': 2, 'n_estimators': 200, 'random_state': 42}"
      ],
      "metadata": {
        "_kg_hide-input": false,
        "execution": {
          "iopub.status.busy": "2023-12-02T21:18:22.593886Z",
          "iopub.execute_input": "2023-12-02T21:18:22.595184Z",
          "iopub.status.idle": "2023-12-02T21:18:26.724197Z",
          "shell.execute_reply.started": "2023-12-02T21:18:22.595138Z",
          "shell.execute_reply": "2023-12-02T21:18:26.723216Z"
        },
        "trusted": true,
        "id": "3eDdhftV3afj"
      },
      "execution_count": null,
      "outputs": []
    },
    {
      "cell_type": "code",
      "source": [
        "rftrainpredictions = rf.predict(X_train_nadropped)"
      ],
      "metadata": {
        "execution": {
          "iopub.status.busy": "2023-12-02T21:18:26.725959Z",
          "iopub.execute_input": "2023-12-02T21:18:26.726336Z",
          "iopub.status.idle": "2023-12-02T21:18:26.814881Z",
          "shell.execute_reply.started": "2023-12-02T21:18:26.726303Z",
          "shell.execute_reply": "2023-12-02T21:18:26.814075Z"
        },
        "trusted": true,
        "id": "03MPwmSh3afj"
      },
      "execution_count": null,
      "outputs": []
    },
    {
      "cell_type": "code",
      "source": [
        "rfpredictions = rf.predict(X_test_nadropped)\n"
      ],
      "metadata": {
        "execution": {
          "iopub.status.busy": "2023-12-02T21:18:26.816717Z",
          "iopub.execute_input": "2023-12-02T21:18:26.817746Z",
          "iopub.status.idle": "2023-12-02T21:18:26.855058Z",
          "shell.execute_reply.started": "2023-12-02T21:18:26.817698Z",
          "shell.execute_reply": "2023-12-02T21:18:26.853712Z"
        },
        "trusted": true,
        "id": "ojZ14PeW3afj"
      },
      "execution_count": null,
      "outputs": []
    },
    {
      "cell_type": "code",
      "source": [
        "from sklearn.metrics import mean_squared_error\n",
        "mse_train = mean_squared_error(y_train_dropped, rftrainpredictions)\n",
        "mse_test = mean_squared_error(y_test_dropped, rfpredictions)\n",
        "\n",
        "print('MSE Train: {:.3e}. MSE Test: {:.3e}'.format(mse_train, mse_test))"
      ],
      "metadata": {
        "execution": {
          "iopub.status.busy": "2023-12-02T21:18:26.856253Z",
          "iopub.execute_input": "2023-12-02T21:18:26.856577Z",
          "iopub.status.idle": "2023-12-02T21:18:26.868111Z",
          "shell.execute_reply.started": "2023-12-02T21:18:26.85655Z",
          "shell.execute_reply": "2023-12-02T21:18:26.866255Z"
        },
        "trusted": true,
        "id": "BBRuRNFM3afj"
      },
      "execution_count": null,
      "outputs": []
    },
    {
      "cell_type": "markdown",
      "source": [
        "xgboost"
      ],
      "metadata": {
        "id": "E75A78Ep3afk"
      }
    },
    {
      "cell_type": "code",
      "source": [
        "#y_train_dropped = y_train.drop(dropped_indicestrain)\n",
        "#y_test_dropped = y_test.drop(dropped_indicestest) X_test_nadropped X_train_nadropped\n",
        "import xgboost as xgb\n",
        "# Define xgboost parameters\n",
        "params = {'objective': 'reg:linear',\n",
        "          'max_depth': 2,\n",
        "          'verbosity': 0}\n",
        "dtrain = xgb.DMatrix(data=X_train_nadropped,\n",
        "                     label=y_train_dropped)\n",
        "xg_depth_2 = xgb.train(params=params, dtrain=dtrain)"
      ],
      "metadata": {
        "execution": {
          "iopub.status.busy": "2023-12-02T21:18:26.869966Z",
          "iopub.execute_input": "2023-12-02T21:18:26.870811Z",
          "iopub.status.idle": "2023-12-02T21:18:26.901267Z",
          "shell.execute_reply.started": "2023-12-02T21:18:26.87073Z",
          "shell.execute_reply": "2023-12-02T21:18:26.900395Z"
        },
        "trusted": true,
        "id": "OfBN9Xis3afk"
      },
      "execution_count": null,
      "outputs": []
    },
    {
      "cell_type": "code",
      "source": [
        "# Define xgboost parameters\n",
        "params = {'objective': 'reg:linear',\n",
        "          'max_depth': 10,\n",
        "          'verbosity': 0}\n",
        "dtrain = xgb.DMatrix(data=X_train,\n",
        "                     label=y_train)\n",
        "xg_depth_10 = xgb.train(params=params, dtrain=dtrain)"
      ],
      "metadata": {
        "execution": {
          "iopub.status.busy": "2023-12-02T21:18:26.902702Z",
          "iopub.execute_input": "2023-12-02T21:18:26.903077Z",
          "iopub.status.idle": "2023-12-02T21:18:27.021827Z",
          "shell.execute_reply.started": "2023-12-02T21:18:26.903051Z",
          "shell.execute_reply": "2023-12-02T21:18:27.020883Z"
        },
        "trusted": true,
        "id": "bfQguwpX3afk"
      },
      "execution_count": null,
      "outputs": []
    },
    {
      "cell_type": "code",
      "source": [
        "# Define xgboost parameters\n",
        "params = {'objective': 'reg:linear',\n",
        "          'max_depth': 16,\n",
        "          'verbosity': 0}\n",
        "dtrain = xgb.DMatrix(data=X_train,\n",
        "                     label=y_train)\n",
        "xg_depth_16 = xgb.train(params=params, dtrain=dtrain)"
      ],
      "metadata": {
        "execution": {
          "iopub.status.busy": "2023-12-02T21:18:27.023425Z",
          "iopub.execute_input": "2023-12-02T21:18:27.02381Z",
          "iopub.status.idle": "2023-12-02T21:18:27.27166Z",
          "shell.execute_reply.started": "2023-12-02T21:18:27.02375Z",
          "shell.execute_reply": "2023-12-02T21:18:27.270854Z"
        },
        "trusted": true,
        "id": "wtHj61m53afk"
      },
      "execution_count": null,
      "outputs": []
    },
    {
      "cell_type": "code",
      "source": [
        "params = {\n",
        "          'max_depth': 5,\n",
        "          'verbosity': 0,\n",
        "         'learning_rate': 0.2,'n_estimators': 100}\n",
        "dtrain = xgb.DMatrix(data=X_train,\n",
        "                     label=y_train)\n",
        "\n",
        "xg_best = xgb.train(params=params, dtrain=dtrain)\n"
      ],
      "metadata": {
        "execution": {
          "iopub.status.busy": "2023-12-02T21:18:27.273149Z",
          "iopub.execute_input": "2023-12-02T21:18:27.27364Z",
          "iopub.status.idle": "2023-12-02T21:18:27.309724Z",
          "shell.execute_reply.started": "2023-12-02T21:18:27.273612Z",
          "shell.execute_reply": "2023-12-02T21:18:27.308889Z"
        },
        "trusted": true,
        "id": "gHB3L7AO3afk"
      },
      "execution_count": null,
      "outputs": []
    },
    {
      "cell_type": "code",
      "source": [
        "from sklearn.model_selection import GridSearchCV\n",
        "import xgboost as xgb\n",
        "\n",
        "# Assuming X, y are your features and target variable\n",
        "param_grid = {\n",
        "    'learning_rate': [0.1, 0.2, 0.3],\n",
        "    'max_depth': [3, 4, 5,6,7],\n",
        "    'n_estimators': [50, 100, 200]\n",
        "}\n",
        "\n",
        "xgb_model = xgb.XGBRegressor()\n",
        "\n",
        "grid_search = GridSearchCV(xgb_model, param_grid, scoring='neg_mean_squared_error', cv=5)\n",
        "grid_search.fit(X_train, y_train)\n",
        "\n",
        "# Best hyperparameters\n",
        "print(\"Best Hyperparameters:\", grid_search.best_params_)\n",
        "\n",
        "# Best negative mean squared error\n",
        "print(\"Best Negative MSE:\", grid_search.best_score_)\n",
        "#Best Hyperparameters: {'learning_rate': 0.1, 'max_depth': 4, 'n_estimators': 50} Best Negative MSE: -8587613159.06636"
      ],
      "metadata": {
        "execution": {
          "iopub.status.busy": "2023-12-02T21:18:27.311381Z",
          "iopub.execute_input": "2023-12-02T21:18:27.311951Z",
          "iopub.status.idle": "2023-12-02T21:19:11.338978Z",
          "shell.execute_reply.started": "2023-12-02T21:18:27.311919Z",
          "shell.execute_reply": "2023-12-02T21:19:11.337894Z"
        },
        "trusted": true,
        "id": "pB_dWMYk3afl"
      },
      "execution_count": null,
      "outputs": []
    },
    {
      "cell_type": "markdown",
      "source": [
        "# Evaluating results"
      ],
      "metadata": {
        "id": "PlLfgmII3afl"
      }
    },
    {
      "cell_type": "code",
      "source": [
        "from sklearn.metrics import mean_squared_error\n",
        "#y_train, y_test\n",
        "dtrain = xgb.DMatrix(data=X_train)\n",
        "dtest = xgb.DMatrix(data=X_test)\n",
        "\n",
        "# For each of 3 trained models\n",
        "for model in [xg_depth_2, xg_depth_10, xg_depth_16,xg_best]:\n",
        "    # Make predictions\n",
        "    train_pred = model.predict(dtrain)\n",
        "    test_pred = model.predict(dtest)\n",
        "\n",
        "    # Calculate metrics\n",
        "    mse_train = mean_squared_error(y_train, train_pred)\n",
        "    mse_test = mean_squared_error(y_test, test_pred)\n",
        "\n",
        "    print('MSE Train: {:.3e}. MSE Test: {:.3e}'.format(mse_train, mse_test))\n",
        "\n"
      ],
      "metadata": {
        "execution": {
          "iopub.status.busy": "2023-12-02T21:19:11.340295Z",
          "iopub.execute_input": "2023-12-02T21:19:11.340712Z",
          "iopub.status.idle": "2023-12-02T21:19:11.375431Z",
          "shell.execute_reply.started": "2023-12-02T21:19:11.340681Z",
          "shell.execute_reply": "2023-12-02T21:19:11.374198Z"
        },
        "trusted": true,
        "id": "QbIprkfu3afl"
      },
      "execution_count": null,
      "outputs": []
    },
    {
      "cell_type": "code",
      "source": [
        "import matplotlib.pyplot as plt\n",
        "\n",
        "# Assuming you have a trained model 'rf' and data 'X_test' for predictions\n",
        "predictions = test_pred\n",
        "\n",
        "\n",
        "plt.scatter(y_test, y_test, c='blue', alpha=0.7, label='Actual')\n",
        "plt.scatter(y_test, predictions, c='red', alpha=0.7, label='Predicted')\n",
        "\n",
        "# Adding labels and title\n",
        "plt.xlabel('Actual Values')\n",
        "plt.ylabel('Predictions')\n",
        "plt.title('Predictions vs. Actual Values')\n",
        "\n",
        "# Adding legend\n",
        "plt.legend()\n",
        "\n",
        "# Show the plot\n",
        "plt.show()"
      ],
      "metadata": {
        "execution": {
          "iopub.status.busy": "2023-12-02T21:19:11.377446Z",
          "iopub.execute_input": "2023-12-02T21:19:11.377704Z",
          "iopub.status.idle": "2023-12-02T21:19:11.66795Z",
          "shell.execute_reply.started": "2023-12-02T21:19:11.377681Z",
          "shell.execute_reply": "2023-12-02T21:19:11.66626Z"
        },
        "trusted": true,
        "id": "9uP1LOWL3afl"
      },
      "execution_count": null,
      "outputs": []
    },
    {
      "cell_type": "code",
      "source": [
        "predictions=rfpredictions\n",
        "plt.scatter(y_test_dropped, y_test_dropped, c='blue', alpha=0.7, label='Actual')\n",
        "plt.scatter(y_test_dropped, predictions, c='red', alpha=0.7, label='Predicted')\n",
        "\n",
        "# Adding labels and title\n",
        "plt.xlabel('Actual Values')\n",
        "plt.ylabel('Predictions')\n",
        "plt.title('Predictions vs. Actual Values')\n",
        "\n",
        "# Adding legend\n",
        "plt.legend()\n",
        "\n",
        "# Show the plot\n",
        "plt.show()"
      ],
      "metadata": {
        "execution": {
          "iopub.status.busy": "2023-12-02T21:19:11.669887Z",
          "iopub.execute_input": "2023-12-02T21:19:11.670328Z",
          "iopub.status.idle": "2023-12-02T21:19:11.963624Z",
          "shell.execute_reply.started": "2023-12-02T21:19:11.670291Z",
          "shell.execute_reply": "2023-12-02T21:19:11.962049Z"
        },
        "trusted": true,
        "id": "dzaC_Xte3afl"
      },
      "execution_count": null,
      "outputs": []
    }
  ]
}